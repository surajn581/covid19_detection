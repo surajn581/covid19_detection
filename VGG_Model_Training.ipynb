{
  "nbformat": 4,
  "nbformat_minor": 0,
  "metadata": {
    "kernelspec": {
      "display_name": "Python 3",
      "language": "python",
      "name": "python3"
    },
    "language_info": {
      "codemirror_mode": {
        "name": "ipython",
        "version": 3
      },
      "file_extension": ".py",
      "mimetype": "text/x-python",
      "name": "python",
      "nbconvert_exporter": "python",
      "pygments_lexer": "ipython3",
      "version": "3.8.5"
    },
    "colab": {
      "name": "VGG-Model Training.ipynb",
      "provenance": [],
      "include_colab_link": true
    },
    "accelerator": "GPU"
  },
  "cells": [
    {
      "cell_type": "markdown",
      "metadata": {
        "id": "view-in-github",
        "colab_type": "text"
      },
      "source": [
        "<a href=\"https://colab.research.google.com/github/surajn581/covid19_detection/blob/master/VGG_Model_Training.ipynb\" target=\"_parent\"><img src=\"https://colab.research.google.com/assets/colab-badge.svg\" alt=\"Open In Colab\"/></a>"
      ]
    },
    {
      "cell_type": "code",
      "metadata": {
        "id": "hdPa4yRY8NIz",
        "outputId": "b85cd1f4-3473-4141-9a4e-0aea56b17758",
        "colab": {
          "base_uri": "https://localhost:8080/",
          "height": 33
        }
      },
      "source": [
        "from google.colab import drive\n",
        "drive.mount('/content/drive')"
      ],
      "execution_count": 4,
      "outputs": [
        {
          "output_type": "stream",
          "text": [
            "Mounted at /content/drive\n"
          ],
          "name": "stdout"
        }
      ]
    },
    {
      "cell_type": "code",
      "metadata": {
        "id": "jyw5WdDy52cT"
      },
      "source": [
        "import numpy as np\n",
        "import matplotlib.pyplot as plt\n",
        "import tensorflow as tf\n",
        "from tensorflow.python.keras.utils import data_utils\n",
        "from tensorflow.keras.models import Model\n",
        "from tensorflow.keras.preprocessing.image import ImageDataGenerator"
      ],
      "execution_count": 1,
      "outputs": []
    },
    {
      "cell_type": "code",
      "metadata": {
        "id": "pa4t2jlI52ca"
      },
      "source": [
        "WEIGHTS_PATH = ('https://storage.googleapis.com/tensorflow/keras-applications/'\n",
        "                'vgg16/vgg16_weights_tf_dim_ordering_tf_kernels.h5')\n",
        "WEIGHTS_PATH_NO_TOP = ('https://storage.googleapis.com/tensorflow/'\n",
        "                       'keras-applications/vgg16/'\n",
        "                       'vgg16_weights_tf_dim_ordering_tf_kernels_notop.h5')\n",
        "\n",
        "def vgg16(image_height, image_width, channels, NUM_CLASSES, include_top=True, weights='imagenet', pooling=None):\n",
        "    model = tf.keras.Sequential()\n",
        "    # 1\n",
        "    model.add(tf.keras.layers.Conv2D(filters=64,\n",
        "                                     kernel_size=(3, 3),\n",
        "                                     strides=1,\n",
        "                                     padding='same',\n",
        "                                     activation=tf.keras.activations.relu,\n",
        "                                     name='block1_conv1',\n",
        "                                     input_shape=(image_height, image_width, channels)))\n",
        "    model.add(tf.keras.layers.Conv2D(filters=64,\n",
        "                                     kernel_size=(3, 3),\n",
        "                                     strides=1,\n",
        "                                     padding='same',\n",
        "                                     name='block1_conv2',\n",
        "                                     activation=tf.keras.activations.relu))\n",
        "    model.add(tf.keras.layers.MaxPool2D(pool_size=(2, 2),\n",
        "                                        strides=2,\n",
        "                                        name='block1_pool',\n",
        "                                        padding='same'))\n",
        "\n",
        "    # 2\n",
        "    model.add(tf.keras.layers.Conv2D(filters=128,\n",
        "                                     kernel_size=(3, 3),\n",
        "                                     strides=1,\n",
        "                                     padding='same',\n",
        "                                     name='block2_conv1',\n",
        "                                     activation=tf.keras.activations.relu))\n",
        "    model.add(tf.keras.layers.Conv2D(filters=128,\n",
        "                                     kernel_size=(3, 3),\n",
        "                                     strides=1,\n",
        "                                     padding='same',\n",
        "                                     name='block2_conv2',\n",
        "                                     activation=tf.keras.activations.relu))\n",
        "    model.add(tf.keras.layers.MaxPool2D(pool_size=(2, 2),\n",
        "                                        strides=2,\n",
        "                                        name='block2_pool',\n",
        "                                        padding='same'))\n",
        "\n",
        "    # 3\n",
        "    model.add(tf.keras.layers.Conv2D(filters=256,\n",
        "                                     kernel_size=(3, 3),\n",
        "                                     strides=1,\n",
        "                                     padding='same',\n",
        "                                     name='block3_conv1',\n",
        "                                     activation=tf.keras.activations.relu))\n",
        "    model.add(tf.keras.layers.Conv2D(filters=256,\n",
        "                                     kernel_size=(3, 3),\n",
        "                                     strides=1,\n",
        "                                     padding='same',\n",
        "                                     name='block3_conv2',\n",
        "                                     activation=tf.keras.activations.relu))\n",
        "    model.add(tf.keras.layers.Conv2D(filters=256,\n",
        "                                     kernel_size=(3, 3),\n",
        "                                     strides=1,\n",
        "                                     padding='same',\n",
        "                                     name='block3_conv3',\n",
        "                                     activation=tf.keras.activations.relu))\n",
        "    model.add(tf.keras.layers.MaxPool2D(pool_size=(2, 2),\n",
        "                                        strides=2,\n",
        "                                        name='block3_pool',\n",
        "                                        padding='same'))\n",
        "\n",
        "    # 4\n",
        "    model.add(tf.keras.layers.Conv2D(filters=512,\n",
        "                                     kernel_size=(3, 3),\n",
        "                                     strides=1,\n",
        "                                     padding='same',\n",
        "                                     name='block4_conv1',\n",
        "                                     activation=tf.keras.activations.relu))\n",
        "    model.add(tf.keras.layers.Conv2D(filters=512,\n",
        "                                     kernel_size=(3, 3),\n",
        "                                     strides=1,\n",
        "                                     padding='same',\n",
        "                                     name='block4_conv2',\n",
        "                                     activation=tf.keras.activations.relu))\n",
        "    model.add(tf.keras.layers.Conv2D(filters=512,\n",
        "                                     kernel_size=(3, 3),\n",
        "                                     strides=1,\n",
        "                                     padding='same',\n",
        "                                     name='block4_conv3',\n",
        "                                     activation=tf.keras.activations.relu))\n",
        "    model.add(tf.keras.layers.MaxPool2D(pool_size=(2, 2),\n",
        "                                        strides=2,\n",
        "                                        name='block4_pool',\n",
        "                                        padding='same'))\n",
        "\n",
        "    # 5\n",
        "    model.add(tf.keras.layers.Conv2D(filters=512,\n",
        "                                     kernel_size=(3, 3),\n",
        "                                     strides=1,\n",
        "                                     padding='same',\n",
        "                                     name='block5_conv1',\n",
        "                                     activation=tf.keras.activations.relu))\n",
        "    model.add(tf.keras.layers.Conv2D(filters=512,\n",
        "                                     kernel_size=(3, 3),\n",
        "                                     strides=1,\n",
        "                                     padding='same',\n",
        "                                     name='block5_conv2',\n",
        "                                     activation=tf.keras.activations.relu))\n",
        "    model.add(tf.keras.layers.Conv2D(filters=512,\n",
        "                                     kernel_size=(3, 3),\n",
        "                                     strides=1,\n",
        "                                     padding='same',\n",
        "                                     name='block5_conv3',\n",
        "                                     activation=tf.keras.activations.relu))\n",
        "    model.add(tf.keras.layers.MaxPool2D(pool_size=(2, 2),\n",
        "                                        strides=2,\n",
        "                                        name='block5_pool',\n",
        "                                        padding='same'))\n",
        "\n",
        "    if include_top:\n",
        "        # Classification block\n",
        "        model.add(tf.keras.layers.Flatten())\n",
        "        model.add(tf.keras.layers.Dense(units=4096,\n",
        "                                        activation=tf.keras.activations.relu))\n",
        "        model.add(tf.keras.layers.Dense(units=4096,\n",
        "                                        activation=tf.keras.activations.relu))\n",
        "        model.add(tf.keras.layers.Dropout(rate=0.5))\n",
        "\n",
        "        model.add(tf.keras.layers.Dense(units=NUM_CLASSES,\n",
        "                                    activation=tf.keras.activations.softmax))\n",
        "    else:\n",
        "        if pooling == 'avg':\n",
        "            model.add(tf.keras.layers.GlobalAveragePooling2D())\n",
        "        elif pooling == 'max':\n",
        "            model.add(tf.keras.layers.GlobalMaxPooling2D())\n",
        "\n",
        "    if weights == 'imagenet':\n",
        "        if include_top:\n",
        "            weights_path = data_utils.get_file(\n",
        "            'vgg16_weights_tf_dim_ordering_tf_kernels.h5',\n",
        "            WEIGHTS_PATH,\n",
        "            cache_subdir='models',\n",
        "            file_hash='64373286793e3c8b2b4e3219cbf3544b')\n",
        "        else:\n",
        "            weights_path = data_utils.get_file(\n",
        "                'vgg16_weights_tf_dim_ordering_tf_kernels_notop.h5',\n",
        "                WEIGHTS_PATH_NO_TOP,\n",
        "                cache_subdir='models',\n",
        "                file_hash='6d6bbae143d832006294945121d1f1fc')\n",
        "        model.load_weights(weights_path)\n",
        "    elif weights is not None:\n",
        "        model.load_weights(weights)\n",
        "\n",
        "    return model"
      ],
      "execution_count": 2,
      "outputs": []
    },
    {
      "cell_type": "code",
      "metadata": {
        "id": "NCk6cNei52ce",
        "outputId": "65d12199-5aeb-4672-8e92-9ed334e96259",
        "colab": {
          "base_uri": "https://localhost:8080/",
          "height": 50
        }
      },
      "source": [
        "train_path = \"/content/drive/My Drive/Colab Notebooks/covid19_detection/train_data\"\n",
        "test_path = \"/content/drive/My Drive/Colab Notebooks/covid19_detection/test_data\"\n",
        "\n",
        "train_datagen = ImageDataGenerator(\n",
        "        rescale=1./255,\n",
        "        shear_range=0.2,\n",
        "        zoom_range=0.2,\n",
        "        validation_split=0.2)\n",
        "#validation_datagen = ImageDataGenerator(rescale=1./255)\n",
        "\n",
        "train_generator = train_datagen.flow_from_directory(\n",
        "        train_path,  \n",
        "        target_size=(224, 224),  \n",
        "        batch_size= 32,\n",
        "        class_mode='categorical', subset=\"training\")\n",
        "\n",
        "validation_generator = train_datagen.flow_from_directory(\n",
        "        train_path,\n",
        "        target_size=(224, 224),\n",
        "        batch_size=32,\n",
        "        class_mode='categorical', subset=\"validation\")\n",
        "\n",
        "\n",
        "\n",
        "\n",
        "\n"
      ],
      "execution_count": 5,
      "outputs": [
        {
          "output_type": "stream",
          "text": [
            "Found 120 images belonging to 3 classes.\n",
            "Found 30 images belonging to 3 classes.\n"
          ],
          "name": "stdout"
        }
      ]
    },
    {
      "cell_type": "code",
      "metadata": {
        "id": "8CMpQJdi52ck",
        "outputId": "5042a8bd-8f61-4751-ce59-28ccdde07dab",
        "colab": {
          "base_uri": "https://localhost:8080/",
          "height": 33
        }
      },
      "source": [
        "train_generator.class_indices"
      ],
      "execution_count": 6,
      "outputs": [
        {
          "output_type": "execute_result",
          "data": {
            "text/plain": [
              "{'covid': 0, 'healthy': 1, 'noncovid': 2}"
            ]
          },
          "metadata": {
            "tags": []
          },
          "execution_count": 6
        }
      ]
    },
    {
      "cell_type": "code",
      "metadata": {
        "id": "3WIguja452co",
        "outputId": "f3784df0-42e2-4cd9-c369-b8712b18d6c4",
        "colab": {
          "base_uri": "https://localhost:8080/",
          "height": 1000
        }
      },
      "source": [
        "\n",
        "baseModel = vgg16(224, 224, 3, 3, include_top=False)\n",
        "headModel = baseModel.output\n",
        "headModel = tf.keras.layers.AveragePooling2D(pool_size=(4, 4))(headModel)\n",
        "headModel = tf.keras.layers.Flatten(name='flatten')(headModel)\n",
        "headModel = tf.keras.layers.Dense(4096, activation='relu', name='fc1')(headModel)\n",
        "headModel = tf.keras.layers.Dense(4096, activation='relu', name='fc2')(headModel)\n",
        "headModel = tf.keras.layers.Dropout(0.5)(headModel)\n",
        "headModel = tf.keras.layers.Dense(3, activation='softmax')(headModel)\n",
        "# place the head FC model on top of the base model (this will become\n",
        "# the actual model we will train)\n",
        "model = Model(inputs=baseModel.input, outputs=headModel)\n",
        "# loop over all layers in the base model and freeze them so they will\n",
        "# *not* be updated during the first training process\n",
        "for layer in baseModel.layers:\n",
        "    layer.trainable = False\n",
        "\n",
        "model.summary()\n",
        "model.compile(loss='categorical_crossentropy',\n",
        "              optimizer='adam',\n",
        "              metrics=['accuracy'])\n",
        "\n",
        "hist = model.fit_generator(\n",
        "  train_generator,\n",
        "  validation_data=validation_generator,\n",
        "  epochs=10\n",
        ")"
      ],
      "execution_count": 18,
      "outputs": [
        {
          "output_type": "stream",
          "text": [
            "Model: \"functional_7\"\n",
            "_________________________________________________________________\n",
            "Layer (type)                 Output Shape              Param #   \n",
            "=================================================================\n",
            "block1_conv1_input (InputLay [(None, 224, 224, 3)]     0         \n",
            "_________________________________________________________________\n",
            "block1_conv1 (Conv2D)        (None, 224, 224, 64)      1792      \n",
            "_________________________________________________________________\n",
            "block1_conv2 (Conv2D)        (None, 224, 224, 64)      36928     \n",
            "_________________________________________________________________\n",
            "block1_pool (MaxPooling2D)   (None, 112, 112, 64)      0         \n",
            "_________________________________________________________________\n",
            "block2_conv1 (Conv2D)        (None, 112, 112, 128)     73856     \n",
            "_________________________________________________________________\n",
            "block2_conv2 (Conv2D)        (None, 112, 112, 128)     147584    \n",
            "_________________________________________________________________\n",
            "block2_pool (MaxPooling2D)   (None, 56, 56, 128)       0         \n",
            "_________________________________________________________________\n",
            "block3_conv1 (Conv2D)        (None, 56, 56, 256)       295168    \n",
            "_________________________________________________________________\n",
            "block3_conv2 (Conv2D)        (None, 56, 56, 256)       590080    \n",
            "_________________________________________________________________\n",
            "block3_conv3 (Conv2D)        (None, 56, 56, 256)       590080    \n",
            "_________________________________________________________________\n",
            "block3_pool (MaxPooling2D)   (None, 28, 28, 256)       0         \n",
            "_________________________________________________________________\n",
            "block4_conv1 (Conv2D)        (None, 28, 28, 512)       1180160   \n",
            "_________________________________________________________________\n",
            "block4_conv2 (Conv2D)        (None, 28, 28, 512)       2359808   \n",
            "_________________________________________________________________\n",
            "block4_conv3 (Conv2D)        (None, 28, 28, 512)       2359808   \n",
            "_________________________________________________________________\n",
            "block4_pool (MaxPooling2D)   (None, 14, 14, 512)       0         \n",
            "_________________________________________________________________\n",
            "block5_conv1 (Conv2D)        (None, 14, 14, 512)       2359808   \n",
            "_________________________________________________________________\n",
            "block5_conv2 (Conv2D)        (None, 14, 14, 512)       2359808   \n",
            "_________________________________________________________________\n",
            "block5_conv3 (Conv2D)        (None, 14, 14, 512)       2359808   \n",
            "_________________________________________________________________\n",
            "block5_pool (MaxPooling2D)   (None, 7, 7, 512)         0         \n",
            "_________________________________________________________________\n",
            "average_pooling2d_3 (Average (None, 1, 1, 512)         0         \n",
            "_________________________________________________________________\n",
            "flatten (Flatten)            (None, 512)               0         \n",
            "_________________________________________________________________\n",
            "fc1 (Dense)                  (None, 4096)              2101248   \n",
            "_________________________________________________________________\n",
            "fc2 (Dense)                  (None, 4096)              16781312  \n",
            "_________________________________________________________________\n",
            "dropout_3 (Dropout)          (None, 4096)              0         \n",
            "_________________________________________________________________\n",
            "dense_3 (Dense)              (None, 3)                 12291     \n",
            "=================================================================\n",
            "Total params: 33,609,539\n",
            "Trainable params: 18,894,851\n",
            "Non-trainable params: 14,714,688\n",
            "_________________________________________________________________\n",
            "Epoch 1/10\n",
            "4/4 [==============================] - 4s 1s/step - loss: 2.8280 - accuracy: 0.3333 - val_loss: 1.9468 - val_accuracy: 0.3333\n",
            "Epoch 2/10\n",
            "4/4 [==============================] - 3s 825ms/step - loss: 1.5316 - accuracy: 0.3333 - val_loss: 1.2389 - val_accuracy: 0.3333\n",
            "Epoch 3/10\n",
            "4/4 [==============================] - 4s 883ms/step - loss: 1.0187 - accuracy: 0.5500 - val_loss: 0.9924 - val_accuracy: 0.3667\n",
            "Epoch 4/10\n",
            "4/4 [==============================] - 3s 841ms/step - loss: 0.9159 - accuracy: 0.5667 - val_loss: 0.8303 - val_accuracy: 0.7667\n",
            "Epoch 5/10\n",
            "4/4 [==============================] - 3s 874ms/step - loss: 0.7104 - accuracy: 0.8167 - val_loss: 0.6418 - val_accuracy: 0.8000\n",
            "Epoch 6/10\n",
            "4/4 [==============================] - 3s 828ms/step - loss: 0.6079 - accuracy: 0.7833 - val_loss: 0.5321 - val_accuracy: 0.7667\n",
            "Epoch 7/10\n",
            "4/4 [==============================] - 4s 890ms/step - loss: 0.4799 - accuracy: 0.8417 - val_loss: 0.4590 - val_accuracy: 0.8000\n",
            "Epoch 8/10\n",
            "4/4 [==============================] - 3s 823ms/step - loss: 0.5564 - accuracy: 0.7500 - val_loss: 0.6449 - val_accuracy: 0.8000\n",
            "Epoch 9/10\n",
            "4/4 [==============================] - 4s 892ms/step - loss: 0.4226 - accuracy: 0.8167 - val_loss: 0.3220 - val_accuracy: 0.9000\n",
            "Epoch 10/10\n",
            "4/4 [==============================] - 3s 834ms/step - loss: 0.4493 - accuracy: 0.7917 - val_loss: 0.8049 - val_accuracy: 0.6333\n"
          ],
          "name": "stdout"
        }
      ]
    },
    {
      "cell_type": "code",
      "metadata": {
        "id": "vv-ZQQSm52c0",
        "outputId": "cadecdcb-8821-4e4a-be58-6b7b8338ca8c",
        "colab": {
          "base_uri": "https://localhost:8080/",
          "height": 294
        }
      },
      "source": [
        "plt.plot(hist.history['loss'])\n",
        "plt.plot(hist.history['val_loss'])\n",
        "plt.title('Model loss')\n",
        "plt.ylabel('Loss')\n",
        "plt.xlabel('Epoch')\n",
        "plt.legend(['Train', 'Val'], loc='upper right')\n",
        "plt.show()"
      ],
      "execution_count": 19,
      "outputs": [
        {
          "output_type": "display_data",
          "data": {
            "image/png": "[encoded data removed]",
            "text/plain": [
              "<Figure size 432x288 with 1 Axes>"
            ]
          },
          "metadata": {
            "tags": [],
            "needs_background": "light"
          }
        }
      ]
    },
    {
      "cell_type": "code",
      "metadata": {
        "id": "qc2djVZ852c4",
        "outputId": "30be8aad-c7ca-4f89-c54a-1133d6810eb0",
        "colab": {
          "base_uri": "https://localhost:8080/",
          "height": 294
        }
      },
      "source": [
        "plt.plot(hist.history['accuracy'])\n",
        "plt.plot(hist.history['val_accuracy'])\n",
        "plt.title('Model accuracy')\n",
        "plt.ylabel('Accuracy')\n",
        "plt.xlabel('Epoch')\n",
        "plt.legend(['Train', 'Val'], loc='lower right')\n",
        "plt.show()"
      ],
      "execution_count": 20,
      "outputs": [
        {
          "output_type": "display_data",
          "data": {
            "image/png": "[encoded data removed]",
            "text/plain": [
              "<Figure size 432x288 with 1 Axes>"
            ]
          },
          "metadata": {
            "tags": [],
            "needs_background": "light"
          }
        }
      ]
    }
  ]
}