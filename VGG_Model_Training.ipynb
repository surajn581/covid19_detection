{
  "nbformat": 4,
  "nbformat_minor": 0,
  "metadata": {
    "kernelspec": {
      "display_name": "Python 3",
      "language": "python",
      "name": "python3"
    },
    "language_info": {
      "codemirror_mode": {
        "name": "ipython",
        "version": 3
      },
      "file_extension": ".py",
      "mimetype": "text/x-python",
      "name": "python",
      "nbconvert_exporter": "python",
      "pygments_lexer": "ipython3",
      "version": "3.8.5"
    },
    "colab": {
      "name": "VGG-Model Training.ipynb",
      "provenance": [],
      "collapsed_sections": [],
      "include_colab_link": true
    },
    "accelerator": "GPU"
  },
  "cells": [
    {
      "cell_type": "markdown",
      "metadata": {
        "id": "view-in-github",
        "colab_type": "text"
      },
      "source": [
        "<a href=\"https://colab.research.google.com/github/surajn581/covid19_detection/blob/master/VGG_Model_Training.ipynb\" target=\"_parent\"><img src=\"https://colab.research.google.com/assets/colab-badge.svg\" alt=\"Open In Colab\"/></a>"
      ]
    },
    {
      "cell_type": "code",
      "metadata": {
        "id": "hdPa4yRY8NIz",
        "outputId": "bd0ed9bb-9884-4143-c80b-929206381ae3",
        "colab": {
          "base_uri": "https://localhost:8080/",
          "height": 33
        }
      },
      "source": [
        "from google.colab import drive\n",
        "drive.mount('/content/drive')"
      ],
      "execution_count": 1,
      "outputs": [
        {
          "output_type": "stream",
          "text": [
            "Mounted at /content/drive\n"
          ],
          "name": "stdout"
        }
      ]
    },
    {
      "cell_type": "code",
      "metadata": {
        "id": "jyw5WdDy52cT"
      },
      "source": [
        "import numpy as np\n",
        "import matplotlib.pyplot as plt\n",
        "import tensorflow as tf\n",
        "import keras\n",
        "from tensorflow.python.keras.utils import data_utils\n",
        "from tensorflow.keras.models import Model\n",
        "from tensorflow.keras.preprocessing.image import ImageDataGenerator\n",
        "import seaborn as sns\n",
        "from sklearn.metrics import confusion_matrix, classification_report\n",
        "from tensorflow.keras.optimizers import Adam\n",
        "from tensorflow.keras.optimizers import SGD\n",
        "from tensorflow.keras.optimizers import RMSprop"
      ],
      "execution_count": 18,
      "outputs": []
    },
    {
      "cell_type": "code",
      "metadata": {
        "id": "pa4t2jlI52ca"
      },
      "source": [
        "WEIGHTS_PATH = ('https://storage.googleapis.com/tensorflow/keras-applications/'\n",
        "                'vgg16/vgg16_weights_tf_dim_ordering_tf_kernels.h5')\n",
        "WEIGHTS_PATH_NO_TOP = ('https://storage.googleapis.com/tensorflow/'\n",
        "                       'keras-applications/vgg16/'\n",
        "                       'vgg16_weights_tf_dim_ordering_tf_kernels_notop.h5')\n",
        "\n",
        "def vgg16(image_height, image_width, channels, NUM_CLASSES, include_top=True, weights='imagenet', pooling=None):\n",
        "    model = tf.keras.Sequential()\n",
        "    # 1\n",
        "    model.add(tf.keras.layers.Conv2D(filters=64,\n",
        "                                     kernel_size=(3, 3),\n",
        "                                     strides=1,\n",
        "                                     padding='same',\n",
        "                                     activation=tf.keras.activations.relu,\n",
        "                                     name='block1_conv1',\n",
        "                                     input_shape=(image_height, image_width, channels)))\n",
        "    model.add(tf.keras.layers.Conv2D(filters=64,\n",
        "                                     kernel_size=(3, 3),\n",
        "                                     strides=1,\n",
        "                                     padding='same',\n",
        "                                     name='block1_conv2',\n",
        "                                     activation=tf.keras.activations.relu))\n",
        "    model.add(tf.keras.layers.MaxPool2D(pool_size=(2, 2),\n",
        "                                        strides=2,\n",
        "                                        name='block1_pool',\n",
        "                                        padding='same'))\n",
        "\n",
        "    # 2\n",
        "    model.add(tf.keras.layers.Conv2D(filters=128,\n",
        "                                     kernel_size=(3, 3),\n",
        "                                     strides=1,\n",
        "                                     padding='same',\n",
        "                                     name='block2_conv1',\n",
        "                                     activation=tf.keras.activations.relu))\n",
        "    model.add(tf.keras.layers.Conv2D(filters=128,\n",
        "                                     kernel_size=(3, 3),\n",
        "                                     strides=1,\n",
        "                                     padding='same',\n",
        "                                     name='block2_conv2',\n",
        "                                     activation=tf.keras.activations.relu))\n",
        "    model.add(tf.keras.layers.MaxPool2D(pool_size=(2, 2),\n",
        "                                        strides=2,\n",
        "                                        name='block2_pool',\n",
        "                                        padding='same'))\n",
        "\n",
        "    # 3\n",
        "    model.add(tf.keras.layers.Conv2D(filters=256,\n",
        "                                     kernel_size=(3, 3),\n",
        "                                     strides=1,\n",
        "                                     padding='same',\n",
        "                                     name='block3_conv1',\n",
        "                                     activation=tf.keras.activations.relu))\n",
        "    model.add(tf.keras.layers.Conv2D(filters=256,\n",
        "                                     kernel_size=(3, 3),\n",
        "                                     strides=1,\n",
        "                                     padding='same',\n",
        "                                     name='block3_conv2',\n",
        "                                     activation=tf.keras.activations.relu))\n",
        "    model.add(tf.keras.layers.Conv2D(filters=256,\n",
        "                                     kernel_size=(3, 3),\n",
        "                                     strides=1,\n",
        "                                     padding='same',\n",
        "                                     name='block3_conv3',\n",
        "                                     activation=tf.keras.activations.relu))\n",
        "    model.add(tf.keras.layers.MaxPool2D(pool_size=(2, 2),\n",
        "                                        strides=2,\n",
        "                                        name='block3_pool',\n",
        "                                        padding='same'))\n",
        "\n",
        "    # 4\n",
        "    model.add(tf.keras.layers.Conv2D(filters=512,\n",
        "                                     kernel_size=(3, 3),\n",
        "                                     strides=1,\n",
        "                                     padding='same',\n",
        "                                     name='block4_conv1',\n",
        "                                     activation=tf.keras.activations.relu))\n",
        "    model.add(tf.keras.layers.Conv2D(filters=512,\n",
        "                                     kernel_size=(3, 3),\n",
        "                                     strides=1,\n",
        "                                     padding='same',\n",
        "                                     name='block4_conv2',\n",
        "                                     activation=tf.keras.activations.relu))\n",
        "    model.add(tf.keras.layers.Conv2D(filters=512,\n",
        "                                     kernel_size=(3, 3),\n",
        "                                     strides=1,\n",
        "                                     padding='same',\n",
        "                                     name='block4_conv3',\n",
        "                                     activation=tf.keras.activations.relu))\n",
        "    model.add(tf.keras.layers.MaxPool2D(pool_size=(2, 2),\n",
        "                                        strides=2,\n",
        "                                        name='block4_pool',\n",
        "                                        padding='same'))\n",
        "\n",
        "    # 5\n",
        "    model.add(tf.keras.layers.Conv2D(filters=512,\n",
        "                                     kernel_size=(3, 3),\n",
        "                                     strides=1,\n",
        "                                     padding='same',\n",
        "                                     name='block5_conv1',\n",
        "                                     activation=tf.keras.activations.relu))\n",
        "    model.add(tf.keras.layers.Conv2D(filters=512,\n",
        "                                     kernel_size=(3, 3),\n",
        "                                     strides=1,\n",
        "                                     padding='same',\n",
        "                                     name='block5_conv2',\n",
        "                                     activation=tf.keras.activations.relu))\n",
        "    model.add(tf.keras.layers.Conv2D(filters=512,\n",
        "                                     kernel_size=(3, 3),\n",
        "                                     strides=1,\n",
        "                                     padding='same',\n",
        "                                     name='block5_conv3',\n",
        "                                     activation=tf.keras.activations.relu))\n",
        "    model.add(tf.keras.layers.MaxPool2D(pool_size=(2, 2),\n",
        "                                        strides=2,\n",
        "                                        name='block5_pool',\n",
        "                                        padding='same'))\n",
        "\n",
        "    if include_top:\n",
        "        # Classification block\n",
        "        model.add(tf.keras.layers.Flatten())\n",
        "        model.add(tf.keras.layers.Dense(units=4096,\n",
        "                                        activation=tf.keras.activations.relu))\n",
        "        model.add(tf.keras.layers.Dense(units=4096,\n",
        "                                        activation=tf.keras.activations.relu))\n",
        "        model.add(tf.keras.layers.Dropout(rate=0.5))\n",
        "\n",
        "        model.add(tf.keras.layers.Dense(units=NUM_CLASSES,\n",
        "                                    activation=tf.keras.activations.softmax))\n",
        "    else:\n",
        "        if pooling == 'avg':\n",
        "            model.add(tf.keras.layers.GlobalAveragePooling2D())\n",
        "        elif pooling == 'max':\n",
        "            model.add(tf.keras.layers.GlobalMaxPooling2D())\n",
        "\n",
        "    if weights == 'imagenet':\n",
        "        if include_top:\n",
        "            weights_path = data_utils.get_file(\n",
        "            'vgg16_weights_tf_dim_ordering_tf_kernels.h5',\n",
        "            WEIGHTS_PATH,\n",
        "            cache_subdir='models',\n",
        "            file_hash='64373286793e3c8b2b4e3219cbf3544b')\n",
        "        else:\n",
        "            weights_path = data_utils.get_file(\n",
        "                'vgg16_weights_tf_dim_ordering_tf_kernels_notop.h5',\n",
        "                WEIGHTS_PATH_NO_TOP,\n",
        "                cache_subdir='models',\n",
        "                file_hash='6d6bbae143d832006294945121d1f1fc')\n",
        "        model.load_weights(weights_path)\n",
        "    elif weights is not None:\n",
        "        model.load_weights(weights)\n",
        "\n",
        "    return model"
      ],
      "execution_count": 3,
      "outputs": []
    },
    {
      "cell_type": "code",
      "metadata": {
        "id": "NCk6cNei52ce",
        "outputId": "2acf7858-d6d2-45d4-9904-da8e71cd7ca7",
        "colab": {
          "base_uri": "https://localhost:8080/",
          "height": 50
        }
      },
      "source": [
        "train_path = \"/content/drive/My Drive/Colab Notebooks/covid19_detection/train_data\"\n",
        "test_path = \"/content/drive/My Drive/Colab Notebooks/covid19_detection/test_data\"\n",
        "\n",
        "train_datagen = ImageDataGenerator(\n",
        "        rescale=1./255,\n",
        "        shear_range=0.2,\n",
        "        zoom_range=0.2,\n",
        "        validation_split=0.2)\n",
        "#validation_datagen = ImageDataGenerator(rescale=1./255)\n",
        "\n",
        "train_generator = train_datagen.flow_from_directory(\n",
        "        train_path,  \n",
        "        target_size=(224, 224),  \n",
        "        batch_size= 32,\n",
        "        class_mode='categorical', subset=\"training\")\n",
        "\n",
        "validation_generator = train_datagen.flow_from_directory(\n",
        "        train_path,\n",
        "        target_size=(224, 224),\n",
        "        batch_size=32,\n",
        "        class_mode='categorical', subset=\"validation\")\n",
        "\n",
        "\n",
        "\n",
        "\n",
        "\n"
      ],
      "execution_count": 4,
      "outputs": [
        {
          "output_type": "stream",
          "text": [
            "Found 120 images belonging to 3 classes.\n",
            "Found 30 images belonging to 3 classes.\n"
          ],
          "name": "stdout"
        }
      ]
    },
    {
      "cell_type": "code",
      "metadata": {
        "id": "8CMpQJdi52ck",
        "outputId": "f15c8f36-0f0c-4df7-efb8-19530b8a2a3a",
        "colab": {
          "base_uri": "https://localhost:8080/",
          "height": 33
        }
      },
      "source": [
        "train_generator.class_indices"
      ],
      "execution_count": 5,
      "outputs": [
        {
          "output_type": "execute_result",
          "data": {
            "text/plain": [
              "{'covid': 0, 'healthy': 1, 'noncovid': 2}"
            ]
          },
          "metadata": {
            "tags": []
          },
          "execution_count": 5
        }
      ]
    },
    {
      "cell_type": "code",
      "metadata": {
        "id": "3WIguja452co",
        "outputId": "e42e0d2b-5dac-470d-e918-51d6125fb65b",
        "colab": {
          "base_uri": "https://localhost:8080/",
          "height": 1000
        }
      },
      "source": [
        "\n",
        "baseModel = vgg16(224, 224, 3, 3, include_top=False)\n",
        "headModel = baseModel.output\n",
        "headModel = tf.keras.layers.AveragePooling2D(pool_size=(4, 4))(headModel)\n",
        "headModel = tf.keras.layers.Flatten(name='flatten')(headModel)\n",
        "headModel = tf.keras.layers.Dense(4096, activation='relu', name='fc1')(headModel)\n",
        "headModel = tf.keras.layers.Dense(4096, activation='relu', name='fc2')(headModel)\n",
        "headModel = tf.keras.layers.Dropout(0.5)(headModel)\n",
        "headModel = tf.keras.layers.Dense(3, activation='softmax')(headModel)\n",
        "# place the head FC model on top of the base model (this will become\n",
        "# the actual model we will train)\n",
        "model = Model(inputs=baseModel.input, outputs=headModel)\n",
        "# loop over all layers in the base model and freeze them so they will\n",
        "# *not* be updated during the first training process\n",
        "for layer in baseModel.layers:\n",
        "    layer.trainable = False\n",
        "\n",
        "model.summary()\n",
        "model.compile(loss='categorical_crossentropy',\n",
        "              optimizer='adam',\n",
        "              metrics=['accuracy'])\n",
        "\n",
        "hist = model.fit_generator(\n",
        "  train_generator,\n",
        "  validation_data=validation_generator,\n",
        "  epochs=10\n",
        ")"
      ],
      "execution_count": 6,
      "outputs": [
        {
          "output_type": "stream",
          "text": [
            "Downloading data from https://storage.googleapis.com/tensorflow/keras-applications/vgg16/vgg16_weights_tf_dim_ordering_tf_kernels_notop.h5\n",
            "58892288/58889256 [==============================] - 0s 0us/step\n",
            "Model: \"functional_1\"\n",
            "_________________________________________________________________\n",
            "Layer (type)                 Output Shape              Param #   \n",
            "=================================================================\n",
            "block1_conv1_input (InputLay [(None, 224, 224, 3)]     0         \n",
            "_________________________________________________________________\n",
            "block1_conv1 (Conv2D)        (None, 224, 224, 64)      1792      \n",
            "_________________________________________________________________\n",
            "block1_conv2 (Conv2D)        (None, 224, 224, 64)      36928     \n",
            "_________________________________________________________________\n",
            "block1_pool (MaxPooling2D)   (None, 112, 112, 64)      0         \n",
            "_________________________________________________________________\n",
            "block2_conv1 (Conv2D)        (None, 112, 112, 128)     73856     \n",
            "_________________________________________________________________\n",
            "block2_conv2 (Conv2D)        (None, 112, 112, 128)     147584    \n",
            "_________________________________________________________________\n",
            "block2_pool (MaxPooling2D)   (None, 56, 56, 128)       0         \n",
            "_________________________________________________________________\n",
            "block3_conv1 (Conv2D)        (None, 56, 56, 256)       295168    \n",
            "_________________________________________________________________\n",
            "block3_conv2 (Conv2D)        (None, 56, 56, 256)       590080    \n",
            "_________________________________________________________________\n",
            "block3_conv3 (Conv2D)        (None, 56, 56, 256)       590080    \n",
            "_________________________________________________________________\n",
            "block3_pool (MaxPooling2D)   (None, 28, 28, 256)       0         \n",
            "_________________________________________________________________\n",
            "block4_conv1 (Conv2D)        (None, 28, 28, 512)       1180160   \n",
            "_________________________________________________________________\n",
            "block4_conv2 (Conv2D)        (None, 28, 28, 512)       2359808   \n",
            "_________________________________________________________________\n",
            "block4_conv3 (Conv2D)        (None, 28, 28, 512)       2359808   \n",
            "_________________________________________________________________\n",
            "block4_pool (MaxPooling2D)   (None, 14, 14, 512)       0         \n",
            "_________________________________________________________________\n",
            "block5_conv1 (Conv2D)        (None, 14, 14, 512)       2359808   \n",
            "_________________________________________________________________\n",
            "block5_conv2 (Conv2D)        (None, 14, 14, 512)       2359808   \n",
            "_________________________________________________________________\n",
            "block5_conv3 (Conv2D)        (None, 14, 14, 512)       2359808   \n",
            "_________________________________________________________________\n",
            "block5_pool (MaxPooling2D)   (None, 7, 7, 512)         0         \n",
            "_________________________________________________________________\n",
            "average_pooling2d (AveragePo (None, 1, 1, 512)         0         \n",
            "_________________________________________________________________\n",
            "flatten (Flatten)            (None, 512)               0         \n",
            "_________________________________________________________________\n",
            "fc1 (Dense)                  (None, 4096)              2101248   \n",
            "_________________________________________________________________\n",
            "fc2 (Dense)                  (None, 4096)              16781312  \n",
            "_________________________________________________________________\n",
            "dropout (Dropout)            (None, 4096)              0         \n",
            "_________________________________________________________________\n",
            "dense (Dense)                (None, 3)                 12291     \n",
            "=================================================================\n",
            "Total params: 33,609,539\n",
            "Trainable params: 18,894,851\n",
            "Non-trainable params: 14,714,688\n",
            "_________________________________________________________________\n",
            "WARNING:tensorflow:From <ipython-input-6-f1554db78f6c>:26: Model.fit_generator (from tensorflow.python.keras.engine.training) is deprecated and will be removed in a future version.\n",
            "Instructions for updating:\n",
            "Please use Model.fit, which supports generators.\n",
            "Epoch 1/10\n",
            "4/4 [==============================] - 21s 5s/step - loss: 3.1958 - accuracy: 0.3667 - val_loss: 1.6982 - val_accuracy: 0.3333\n",
            "Epoch 2/10\n",
            "4/4 [==============================] - 4s 1s/step - loss: 1.3661 - accuracy: 0.3333 - val_loss: 0.9889 - val_accuracy: 0.6000\n",
            "Epoch 3/10\n",
            "4/4 [==============================] - 4s 1s/step - loss: 0.9670 - accuracy: 0.6000 - val_loss: 0.9349 - val_accuracy: 0.5667\n",
            "Epoch 4/10\n",
            "4/4 [==============================] - 4s 979ms/step - loss: 0.8386 - accuracy: 0.6583 - val_loss: 0.7747 - val_accuracy: 0.8000\n",
            "Epoch 5/10\n",
            "4/4 [==============================] - 4s 990ms/step - loss: 0.7364 - accuracy: 0.6833 - val_loss: 0.6365 - val_accuracy: 0.8333\n",
            "Epoch 6/10\n",
            "4/4 [==============================] - 4s 1s/step - loss: 0.5723 - accuracy: 0.7250 - val_loss: 0.5759 - val_accuracy: 0.6667\n",
            "Epoch 7/10\n",
            "4/4 [==============================] - 4s 986ms/step - loss: 0.6084 - accuracy: 0.7250 - val_loss: 0.4978 - val_accuracy: 0.8000\n",
            "Epoch 8/10\n",
            "4/4 [==============================] - 4s 1s/step - loss: 0.4916 - accuracy: 0.8333 - val_loss: 0.5314 - val_accuracy: 0.8333\n",
            "Epoch 9/10\n",
            "4/4 [==============================] - 4s 982ms/step - loss: 0.4309 - accuracy: 0.8083 - val_loss: 0.5598 - val_accuracy: 0.7333\n",
            "Epoch 10/10\n",
            "4/4 [==============================] - 4s 977ms/step - loss: 0.4039 - accuracy: 0.8167 - val_loss: 0.4205 - val_accuracy: 0.8667\n"
          ],
          "name": "stdout"
        }
      ]
    },
    {
      "cell_type": "code",
      "metadata": {
        "id": "vv-ZQQSm52c0",
        "outputId": "f0c05b6d-43a3-48ed-c612-2ea866129899",
        "colab": {
          "base_uri": "https://localhost:8080/",
          "height": 294
        }
      },
      "source": [
        "plt.plot(hist.history['loss'])\n",
        "plt.plot(hist.history['val_loss'])\n",
        "plt.title('Model loss')\n",
        "plt.ylabel('Loss')\n",
        "plt.xlabel('Epoch')\n",
        "plt.legend(['Train', 'Val'], loc='upper right')\n",
        "plt.show()"
      ],
      "execution_count": 7,
      "outputs": [
        {
          "output_type": "display_data",
          "data": {
            "image/png": "[encoded data removed]",
            "text/plain": [
              "<Figure size 432x288 with 1 Axes>"
            ]
          },
          "metadata": {
            "tags": [],
            "needs_background": "light"
          }
        }
      ]
    },
    {
      "cell_type": "code",
      "metadata": {
        "id": "qc2djVZ852c4",
        "outputId": "9a88bff0-0049-4ef4-bcee-07693b6fa085",
        "colab": {
          "base_uri": "https://localhost:8080/",
          "height": 294
        }
      },
      "source": [
        "plt.plot(hist.history['accuracy'])\n",
        "plt.plot(hist.history['val_accuracy'])\n",
        "plt.title('Model accuracy')\n",
        "plt.ylabel('Accuracy')\n",
        "plt.xlabel('Epoch')\n",
        "plt.legend(['Train', 'Val'], loc='lower right')\n",
        "plt.show()"
      ],
      "execution_count": 8,
      "outputs": [
        {
          "output_type": "display_data",
          "data": {
            "image/png": "[encoded data removed]",
            "text/plain": [
              "<Figure size 432x288 with 1 Axes>"
            ]
          },
          "metadata": {
            "tags": [],
            "needs_background": "light"
          }
        }
      ]
    },
    {
      "cell_type": "code",
      "metadata": {
        "id": "rjjHPxtdscTN",
        "outputId": "6a6d6da5-82b8-4610-f8e1-28cdb35e53af",
        "colab": {
          "base_uri": "https://localhost:8080/",
          "height": 103
        }
      },
      "source": [
        "# Confusion Matrix \n",
        "\n",
        "# Since we do not have a lot of data, we did not split into training-validation-testing.\n",
        "# Instead we split into training-validation.\n",
        "# we shall use images in validation dataset for testing. \n",
        "\n",
        "# There is one problem. Previously, we set shuffle = True in our generator.\n",
        "# This makes it difficult to obtain predictions and their corresponding ground truth labels.\n",
        "# Thus, we shall call the generator again, but this time set shuffle = False.\n",
        "train_path = \"/content/drive/My Drive/Colab Notebooks/covid19_detection/train_data\"\n",
        "test_path = \"/content/drive/My Drive/Colab Notebooks/covid19_detection/test_data\"\n",
        "\n",
        "img_height, img_width=224,224\n",
        "val_generator = train_datagen.flow_from_directory(\n",
        "    directory = train_path,\n",
        "    classes = ['covid','healthy','nocovid'],\n",
        "    target_size=(img_height, img_width),\n",
        "    seed = 42,\n",
        "    batch_size = 32, \n",
        "    shuffle = False,\n",
        "    subset = 'validation'\n",
        ")\n",
        "\n",
        "# Obtain predictions\n",
        "pred = model.predict_generator(val_generator) # Gives class probabilities\n",
        "pred = np.round(pred) # Gives one-hot encoded classes\n",
        "pred = np.argmax(pred, axis = 1) # Gives class labels\n",
        "\n",
        "# Obtain actual labels\n",
        "actual = val_generator.classes\n",
        "    \n",
        "# Now plot matrix\n",
        "cm = confusion_matrix(actual, pred, labels = [0, 1, 2])"
      ],
      "execution_count": 9,
      "outputs": [
        {
          "output_type": "stream",
          "text": [
            "Found 20 images belonging to 3 classes.\n",
            "WARNING:tensorflow:From <ipython-input-9-866092da6ed3>:25: Model.predict_generator (from tensorflow.python.keras.engine.training) is deprecated and will be removed in a future version.\n",
            "Instructions for updating:\n",
            "Please use Model.predict, which supports generators.\n"
          ],
          "name": "stdout"
        }
      ]
    },
    {
      "cell_type": "code",
      "metadata": {
        "id": "tWLVT-j5NPQB"
      },
      "source": [
        "def make_confusion_matrix(cf,\n",
        "                          group_names=None,\n",
        "                          categories='auto',\n",
        "                          count=True,\n",
        "                          percent=True,\n",
        "                          cbar=True,\n",
        "                          xyticks=True,\n",
        "                          xyplotlabels=True,\n",
        "                          sum_stats=True,\n",
        "                          figsize=None,\n",
        "                          cmap='Blues',\n",
        "                          title=None):\n",
        "\n",
        "\n",
        "    # CODE TO GENERATE TEXT INSIDE EACH SQUARE\n",
        "    blanks = ['' for i in range(cf.size)]\n",
        "\n",
        "    if group_names and len(group_names)==cf.size:\n",
        "        group_labels = [\"{}\\n\".format(value) for value in group_names]\n",
        "    else:\n",
        "        group_labels = blanks\n",
        "\n",
        "    if count:\n",
        "        group_counts = [\"{0:0.0f}\\n\".format(value) for value in cf.flatten()]\n",
        "    else:\n",
        "        group_counts = blanks\n",
        "\n",
        "    if percent:\n",
        "        group_percentages = [\"{0:.2%}\".format(value) for value in cf.flatten()/np.sum(cf)]\n",
        "    else:\n",
        "        group_percentages = blanks\n",
        "\n",
        "    box_labels = [f\"{v1}{v2}{v3}\".strip() for v1, v2, v3 in zip(group_labels,group_counts,group_percentages)]\n",
        "    box_labels = np.asarray(box_labels).reshape(cf.shape[0],cf.shape[1])\n",
        "\n",
        "\n",
        "    # CODE TO GENERATE SUMMARY STATISTICS & TEXT FOR SUMMARY STATS\n",
        "    if sum_stats:\n",
        "        #Accuracy is sum of diagonal divided by total observations\n",
        "        accuracy  = np.trace(cf) / float(np.sum(cf))\n",
        "\n",
        "        #if it is a binary confusion matrix, show some more stats\n",
        "        if len(cf)==2:\n",
        "            #Metrics for Binary Confusion Matrices\n",
        "            precision = cf[1,1] / sum(cf[:,1])\n",
        "            recall    = cf[1,1] / sum(cf[1,:])\n",
        "            f1_score  = 2*precision*recall / (precision + recall)\n",
        "            stats_text = \"\\n\\nAccuracy={:0.3f}\\nPrecision={:0.3f}\\nRecall={:0.3f}\\nF1 Score={:0.3f}\".format(\n",
        "                accuracy,precision,recall,f1_score)\n",
        "        else:\n",
        "            stats_text = \"\\n\\nAccuracy={:0.3f}\".format(accuracy)\n",
        "    else:\n",
        "        stats_text = \"\"\n",
        "\n",
        "\n",
        "    # SET FIGURE PARAMETERS ACCORDING TO OTHER ARGUMENTS\n",
        "    if figsize==None:\n",
        "        #Get default figure size if not set\n",
        "        figsize = plt.rcParams.get('figure.figsize')\n",
        "\n",
        "    if xyticks==False:\n",
        "        #Do not show categories if xyticks is False\n",
        "        categories=False\n",
        "\n",
        "\n",
        "    # MAKE THE HEATMAP VISUALIZATION\n",
        "    plt.figure(figsize=figsize)\n",
        "    sns.heatmap(cf,annot=box_labels,fmt=\"\",cmap=cmap,cbar=cbar,xticklabels=categories,yticklabels=categories)\n",
        "\n",
        "    if xyplotlabels:\n",
        "        plt.ylabel('True label')\n",
        "        plt.xlabel('Predicted label' + stats_text)\n",
        "    else:\n",
        "        plt.xlabel(stats_text)\n",
        "    \n",
        "    if title:\n",
        "        plt.title(title)"
      ],
      "execution_count": 11,
      "outputs": []
    },
    {
      "cell_type": "code",
      "metadata": {
        "id": "tdT91McOzpR-",
        "outputId": "87624aba-d00b-4cc7-84d8-c5c96df5eabd",
        "colab": {
          "base_uri": "https://localhost:8080/",
          "height": 628
        }
      },
      "source": [
        "make_confusion_matrix(cm, figsize=(12,10), cbar=False)"
      ],
      "execution_count": 12,
      "outputs": [
        {
          "output_type": "display_data",
          "data": {
            "image/png": "[encoded data removed]",
            "text/plain": [
              "<Figure size 864x720 with 1 Axes>"
            ]
          },
          "metadata": {
            "tags": [],
            "needs_background": "light"
          }
        }
      ]
    },
    {
      "cell_type": "code",
      "metadata": {
        "id": "wTjaqncRshCh",
        "outputId": "d338db82-b666-4b35-b675-39f4791d632d",
        "colab": {
          "base_uri": "https://localhost:8080/",
          "height": 236
        }
      },
      "source": [
        "# Classification Report\n",
        "print(classification_report(actual, pred))"
      ],
      "execution_count": 10,
      "outputs": [
        {
          "output_type": "stream",
          "text": [
            "              precision    recall  f1-score   support\n",
            "\n",
            "           0       1.00      0.70      0.82        10\n",
            "           1       1.00      1.00      1.00        10\n",
            "           2       0.00      0.00      0.00         0\n",
            "\n",
            "    accuracy                           0.85        20\n",
            "   macro avg       0.67      0.57      0.61        20\n",
            "weighted avg       1.00      0.85      0.91        20\n",
            "\n"
          ],
          "name": "stdout"
        },
        {
          "output_type": "stream",
          "text": [
            "/usr/local/lib/python3.6/dist-packages/sklearn/metrics/_classification.py:1272: UndefinedMetricWarning: Recall and F-score are ill-defined and being set to 0.0 in labels with no true samples. Use `zero_division` parameter to control this behavior.\n",
            "  _warn_prf(average, modifier, msg_start, len(result))\n"
          ],
          "name": "stderr"
        }
      ]
    },
    {
      "cell_type": "code",
      "metadata": {
        "id": "-KssBMALzud6"
      },
      "source": [
        "def train_model(batch_size = 32, LR = 0.0001, epochs = 5, opt = 'adam'):\n",
        "\n",
        "  WEIGHTS_PATH = ('https://storage.googleapis.com/tensorflow/keras-applications/'\n",
        "                'vgg16/vgg16_weights_tf_dim_ordering_tf_kernels.h5')\n",
        "  WEIGHTS_PATH_NO_TOP = ('https://storage.googleapis.com/tensorflow/'\n",
        "                        'keras-applications/vgg16/'\n",
        "                        'vgg16_weights_tf_dim_ordering_tf_kernels_notop.h5')\n",
        "  \n",
        "  train_path = \"/content/drive/My Drive/Colab Notebooks/covid19_detection/train_data\"\n",
        "\n",
        "  img_height, img_width=224,224\n",
        "\n",
        "  train_datagen = ImageDataGenerator(\n",
        "        rescale=1./255,\n",
        "        shear_range=0.2,\n",
        "        zoom_range=0.2,\n",
        "        validation_split=0.2)\n",
        "  #validation_datagen = ImageDataGenerator(rescale=1./255)\n",
        "\n",
        "  train_generator = train_datagen.flow_from_directory(\n",
        "          train_path,  \n",
        "          target_size=(224, 224),  \n",
        "          batch_size= 32,\n",
        "          class_mode='categorical', subset=\"training\")\n",
        "\n",
        "  validation_generator = train_datagen.flow_from_directory(\n",
        "          train_path,\n",
        "          target_size=(224, 224),\n",
        "          batch_size=32,\n",
        "          class_mode='categorical', subset=\"validation\")\n",
        "\n",
        "\n",
        "  baseModel = vgg16(224, 224, 3, 3, include_top=False)\n",
        "  headModel = baseModel.output\n",
        "  headModel = tf.keras.layers.AveragePooling2D(pool_size=(4, 4))(headModel)\n",
        "  headModel = tf.keras.layers.Flatten(name='flatten')(headModel)\n",
        "  headModel = tf.keras.layers.Dense(4096, activation='relu', name='fc1')(headModel)\n",
        "  headModel = tf.keras.layers.Dense(4096, activation='relu', name='fc2')(headModel)\n",
        "  headModel = tf.keras.layers.Dropout(0.5)(headModel)\n",
        "  headModel = tf.keras.layers.Dense(3, activation='softmax')(headModel)\n",
        "  # place the head FC model on top of the base model (this will become\n",
        "  # the actual model we will train)\n",
        "  model = Model(inputs=baseModel.input, outputs=headModel)\n",
        "  # loop over all layers in the base model and freeze them so they will\n",
        "  # *not* be updated during the first training process\n",
        "  for layer in baseModel.layers:\n",
        "      layer.trainable = False\n",
        "\n",
        "  if opt == 'adam':\n",
        "    optimizer = Adam(LR)\n",
        "  elif opt == 'sgd':\n",
        "    optimizer = SGD(LR)\n",
        "  elif opt == 'rmsprop':\n",
        "    optimizer = RMSprop(LR)\n",
        "\n",
        "  model.compile(loss = keras.losses.categorical_crossentropy, optimizer = optimizer, metrics = [\"accuracy\"])\n",
        "  \n",
        "  history = model.fit_generator(train_generator, validation_data = train_generator, epochs = epochs ,verbose = 0)\n",
        "\n",
        "  print('hyperparameters: batch_size : {}, Learning Rate : {}, Epochs : {}, Optimizer : {}'.format(batch_size, LR, epochs, opt))\n",
        "  print('validation accuracy: ',history.history['val_accuracy'][-1])"
      ],
      "execution_count": 13,
      "outputs": []
    },
    {
      "cell_type": "code",
      "metadata": {
        "id": "cOk-_kkP2BVi",
        "outputId": "bff3771f-2195-41aa-9dec-d5920ffb7338",
        "colab": {
          "base_uri": "https://localhost:8080/",
          "height": 1000
        }
      },
      "source": [
        "batch_list = [32]\n",
        "epoch_list = [3, 10, 15]\n",
        "learning_rate_list = [0.001, 0.0001]\n",
        "opt_list = ['adam', 'sgd']\n",
        "\n",
        "for batch_size in batch_list:\n",
        "  for epochs in epoch_list:\n",
        "    for LR in learning_rate_list:\n",
        "      for opt in opt_list:\n",
        "        print('-----'*20)\n",
        "        train_model(batch_size = batch_size, LR = LR, epochs = epochs, opt = opt)"
      ],
      "execution_count": 19,
      "outputs": [
        {
          "output_type": "stream",
          "text": [
            "----------------------------------------------------------------------------------------------------\n",
            "Found 120 images belonging to 3 classes.\n",
            "Found 30 images belonging to 3 classes.\n",
            "hyperparameters: batch_size : 32, Learning Rate : 0.001, Epochs : 3, Optimizer : adam\n",
            "validation accuracy:  0.6666666865348816\n",
            "----------------------------------------------------------------------------------------------------\n",
            "Found 120 images belonging to 3 classes.\n",
            "Found 30 images belonging to 3 classes.\n",
            "hyperparameters: batch_size : 32, Learning Rate : 0.001, Epochs : 3, Optimizer : sgd\n",
            "validation accuracy:  0.36666667461395264\n",
            "----------------------------------------------------------------------------------------------------\n",
            "Found 120 images belonging to 3 classes.\n",
            "Found 30 images belonging to 3 classes.\n",
            "hyperparameters: batch_size : 32, Learning Rate : 0.0001, Epochs : 3, Optimizer : adam\n",
            "validation accuracy:  0.6166666746139526\n",
            "----------------------------------------------------------------------------------------------------\n",
            "Found 120 images belonging to 3 classes.\n",
            "Found 30 images belonging to 3 classes.\n",
            "hyperparameters: batch_size : 32, Learning Rate : 0.0001, Epochs : 3, Optimizer : sgd\n",
            "validation accuracy:  0.3083333373069763\n",
            "----------------------------------------------------------------------------------------------------\n",
            "Found 120 images belonging to 3 classes.\n",
            "Found 30 images belonging to 3 classes.\n",
            "hyperparameters: batch_size : 32, Learning Rate : 0.001, Epochs : 10, Optimizer : adam\n",
            "validation accuracy:  0.8583333492279053\n",
            "----------------------------------------------------------------------------------------------------\n",
            "Found 120 images belonging to 3 classes.\n",
            "Found 30 images belonging to 3 classes.\n",
            "hyperparameters: batch_size : 32, Learning Rate : 0.001, Epochs : 10, Optimizer : sgd\n",
            "validation accuracy:  0.7250000238418579\n",
            "----------------------------------------------------------------------------------------------------\n",
            "Found 120 images belonging to 3 classes.\n",
            "Found 30 images belonging to 3 classes.\n",
            "hyperparameters: batch_size : 32, Learning Rate : 0.0001, Epochs : 10, Optimizer : adam\n",
            "validation accuracy:  0.8333333134651184\n",
            "----------------------------------------------------------------------------------------------------\n",
            "Found 120 images belonging to 3 classes.\n",
            "Found 30 images belonging to 3 classes.\n",
            "hyperparameters: batch_size : 32, Learning Rate : 0.0001, Epochs : 10, Optimizer : sgd\n",
            "validation accuracy:  0.3083333373069763\n",
            "----------------------------------------------------------------------------------------------------\n",
            "Found 120 images belonging to 3 classes.\n",
            "Found 30 images belonging to 3 classes.\n",
            "hyperparameters: batch_size : 32, Learning Rate : 0.001, Epochs : 15, Optimizer : adam\n",
            "validation accuracy:  0.9166666865348816\n",
            "----------------------------------------------------------------------------------------------------\n",
            "Found 120 images belonging to 3 classes.\n",
            "Found 30 images belonging to 3 classes.\n",
            "hyperparameters: batch_size : 32, Learning Rate : 0.001, Epochs : 15, Optimizer : sgd\n",
            "validation accuracy:  0.7166666388511658\n",
            "----------------------------------------------------------------------------------------------------\n",
            "Found 120 images belonging to 3 classes.\n",
            "Found 30 images belonging to 3 classes.\n",
            "hyperparameters: batch_size : 32, Learning Rate : 0.0001, Epochs : 15, Optimizer : adam\n",
            "validation accuracy:  0.8916666507720947\n",
            "----------------------------------------------------------------------------------------------------\n",
            "Found 120 images belonging to 3 classes.\n",
            "Found 30 images belonging to 3 classes.\n",
            "hyperparameters: batch_size : 32, Learning Rate : 0.0001, Epochs : 15, Optimizer : sgd\n",
            "validation accuracy:  0.3333333432674408\n"
          ],
          "name": "stdout"
        }
      ]
    },
    {
      "cell_type": "code",
      "metadata": {
        "id": "-itoLunm2Lw5"
      },
      "source": [
        "# we can see that SGD optimizer does not work well for almost all hyper parameters and seems very sensitive to the learning rate\n",
        "# ADAM optimizer gives better accuracy than the SGD optimizer in all cases\n",
        "# ADAM optimizer performs the best for hyperparameters: batch_size : 32, Learning Rate : 0.001, Epochs : 15, Optimizer : adam\n",
        "# giving us a validation accuracy of approximately 92 percent \n",
        "# when the number of epochs increases from 10 to 15 then ADAM optimizer tends to perform better with smaller learning rate\n",
        "# Adam optimizer is very not very sensitive to learning rate as the accuracy changes only few percent when learning rate is changed\n",
        "# the best hyperparamaters from the about tuning are\n",
        "# hyperparameters: batch_size : 32, Learning Rate : 0.001, Epochs : 15, Optimizer : adam"
      ],
      "execution_count": null,
      "outputs": []
    }
  ]
}