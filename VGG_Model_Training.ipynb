{
  "nbformat": 4,
  "nbformat_minor": 0,
  "metadata": {
    "kernelspec": {
      "display_name": "Python 3",
      "language": "python",
      "name": "python3"
    },
    "language_info": {
      "codemirror_mode": {
        "name": "ipython",
        "version": 3
      },
      "file_extension": ".py",
      "mimetype": "text/x-python",
      "name": "python",
      "nbconvert_exporter": "python",
      "pygments_lexer": "ipython3",
      "version": "3.8.5"
    },
    "colab": {
      "name": "VGG-Model Training.ipynb",
      "provenance": [],
      "collapsed_sections": [],
      "include_colab_link": true
    },
    "accelerator": "GPU"
  },
  "cells": [
    {
      "cell_type": "markdown",
      "metadata": {
        "id": "view-in-github",
        "colab_type": "text"
      },
      "source": [
        "<a href=\"https://colab.research.google.com/github/surajn581/covid19_detection/blob/master/VGG_Model_Training.ipynb\" target=\"_parent\"><img src=\"https://colab.research.google.com/assets/colab-badge.svg\" alt=\"Open In Colab\"/></a>"
      ]
    },
    {
      "cell_type": "code",
      "metadata": {
        "id": "hdPa4yRY8NIz",
        "outputId": "b7893cc8-f4d7-4b3d-d0bc-00d9e30ff409",
        "colab": {
          "base_uri": "https://localhost:8080/",
          "height": 33
        }
      },
      "source": [
        "from google.colab import drive\n",
        "drive.mount('/content/drive')"
      ],
      "execution_count": 1,
      "outputs": [
        {
          "output_type": "stream",
          "text": [
            "Mounted at /content/drive\n"
          ],
          "name": "stdout"
        }
      ]
    },
    {
      "cell_type": "code",
      "metadata": {
        "id": "jyw5WdDy52cT"
      },
      "source": [
        "import numpy as np\n",
        "import matplotlib.pyplot as plt\n",
        "import tensorflow as tf\n",
        "import keras\n",
        "from tensorflow.python.keras.utils import data_utils\n",
        "from tensorflow.keras.models import Model\n",
        "from tensorflow.keras.preprocessing.image import ImageDataGenerator\n",
        "import seaborn as sns\n",
        "from sklearn.metrics import confusion_matrix, classification_report\n",
        "from tensorflow.keras.optimizers import Adam\n",
        "from tensorflow.keras.optimizers import SGD\n",
        "from tensorflow.keras.optimizers import RMSprop"
      ],
      "execution_count": 2,
      "outputs": []
    },
    {
      "cell_type": "code",
      "metadata": {
        "id": "pa4t2jlI52ca"
      },
      "source": [
        "WEIGHTS_PATH = ('https://storage.googleapis.com/tensorflow/keras-applications/'\n",
        "                'vgg16/vgg16_weights_tf_dim_ordering_tf_kernels.h5')\n",
        "WEIGHTS_PATH_NO_TOP = ('https://storage.googleapis.com/tensorflow/'\n",
        "                       'keras-applications/vgg16/'\n",
        "                       'vgg16_weights_tf_dim_ordering_tf_kernels_notop.h5')\n",
        "\n",
        "def vgg16(image_height, image_width, channels, NUM_CLASSES, include_top=True, weights='imagenet', pooling=None):\n",
        "    model = tf.keras.Sequential()\n",
        "    # 1\n",
        "    model.add(tf.keras.layers.Conv2D(filters=64,\n",
        "                                     kernel_size=(3, 3),\n",
        "                                     strides=1,\n",
        "                                     padding='same',\n",
        "                                     activation=tf.keras.activations.relu,\n",
        "                                     name='block1_conv1',\n",
        "                                     input_shape=(image_height, image_width, channels)))\n",
        "    model.add(tf.keras.layers.Conv2D(filters=64,\n",
        "                                     kernel_size=(3, 3),\n",
        "                                     strides=1,\n",
        "                                     padding='same',\n",
        "                                     name='block1_conv2',\n",
        "                                     activation=tf.keras.activations.relu))\n",
        "    model.add(tf.keras.layers.MaxPool2D(pool_size=(2, 2),\n",
        "                                        strides=2,\n",
        "                                        name='block1_pool',\n",
        "                                        padding='same'))\n",
        "\n",
        "    # 2\n",
        "    model.add(tf.keras.layers.Conv2D(filters=128,\n",
        "                                     kernel_size=(3, 3),\n",
        "                                     strides=1,\n",
        "                                     padding='same',\n",
        "                                     name='block2_conv1',\n",
        "                                     activation=tf.keras.activations.relu))\n",
        "    model.add(tf.keras.layers.Conv2D(filters=128,\n",
        "                                     kernel_size=(3, 3),\n",
        "                                     strides=1,\n",
        "                                     padding='same',\n",
        "                                     name='block2_conv2',\n",
        "                                     activation=tf.keras.activations.relu))\n",
        "    model.add(tf.keras.layers.MaxPool2D(pool_size=(2, 2),\n",
        "                                        strides=2,\n",
        "                                        name='block2_pool',\n",
        "                                        padding='same'))\n",
        "\n",
        "    # 3\n",
        "    model.add(tf.keras.layers.Conv2D(filters=256,\n",
        "                                     kernel_size=(3, 3),\n",
        "                                     strides=1,\n",
        "                                     padding='same',\n",
        "                                     name='block3_conv1',\n",
        "                                     activation=tf.keras.activations.relu))\n",
        "    model.add(tf.keras.layers.Conv2D(filters=256,\n",
        "                                     kernel_size=(3, 3),\n",
        "                                     strides=1,\n",
        "                                     padding='same',\n",
        "                                     name='block3_conv2',\n",
        "                                     activation=tf.keras.activations.relu))\n",
        "    model.add(tf.keras.layers.Conv2D(filters=256,\n",
        "                                     kernel_size=(3, 3),\n",
        "                                     strides=1,\n",
        "                                     padding='same',\n",
        "                                     name='block3_conv3',\n",
        "                                     activation=tf.keras.activations.relu))\n",
        "    model.add(tf.keras.layers.MaxPool2D(pool_size=(2, 2),\n",
        "                                        strides=2,\n",
        "                                        name='block3_pool',\n",
        "                                        padding='same'))\n",
        "\n",
        "    # 4\n",
        "    model.add(tf.keras.layers.Conv2D(filters=512,\n",
        "                                     kernel_size=(3, 3),\n",
        "                                     strides=1,\n",
        "                                     padding='same',\n",
        "                                     name='block4_conv1',\n",
        "                                     activation=tf.keras.activations.relu))\n",
        "    model.add(tf.keras.layers.Conv2D(filters=512,\n",
        "                                     kernel_size=(3, 3),\n",
        "                                     strides=1,\n",
        "                                     padding='same',\n",
        "                                     name='block4_conv2',\n",
        "                                     activation=tf.keras.activations.relu))\n",
        "    model.add(tf.keras.layers.Conv2D(filters=512,\n",
        "                                     kernel_size=(3, 3),\n",
        "                                     strides=1,\n",
        "                                     padding='same',\n",
        "                                     name='block4_conv3',\n",
        "                                     activation=tf.keras.activations.relu))\n",
        "    model.add(tf.keras.layers.MaxPool2D(pool_size=(2, 2),\n",
        "                                        strides=2,\n",
        "                                        name='block4_pool',\n",
        "                                        padding='same'))\n",
        "\n",
        "    # 5\n",
        "    model.add(tf.keras.layers.Conv2D(filters=512,\n",
        "                                     kernel_size=(3, 3),\n",
        "                                     strides=1,\n",
        "                                     padding='same',\n",
        "                                     name='block5_conv1',\n",
        "                                     activation=tf.keras.activations.relu))\n",
        "    model.add(tf.keras.layers.Conv2D(filters=512,\n",
        "                                     kernel_size=(3, 3),\n",
        "                                     strides=1,\n",
        "                                     padding='same',\n",
        "                                     name='block5_conv2',\n",
        "                                     activation=tf.keras.activations.relu))\n",
        "    model.add(tf.keras.layers.Conv2D(filters=512,\n",
        "                                     kernel_size=(3, 3),\n",
        "                                     strides=1,\n",
        "                                     padding='same',\n",
        "                                     name='block5_conv3',\n",
        "                                     activation=tf.keras.activations.relu))\n",
        "    model.add(tf.keras.layers.MaxPool2D(pool_size=(2, 2),\n",
        "                                        strides=2,\n",
        "                                        name='block5_pool',\n",
        "                                        padding='same'))\n",
        "\n",
        "    if include_top:\n",
        "        # Classification block\n",
        "        model.add(tf.keras.layers.Flatten())\n",
        "        model.add(tf.keras.layers.Dense(units=4096,\n",
        "                                        activation=tf.keras.activations.relu))\n",
        "        model.add(tf.keras.layers.Dense(units=4096,\n",
        "                                        activation=tf.keras.activations.relu))\n",
        "        model.add(tf.keras.layers.Dropout(rate=0.5))\n",
        "\n",
        "        model.add(tf.keras.layers.Dense(units=NUM_CLASSES,\n",
        "                                    activation=tf.keras.activations.softmax))\n",
        "    else:\n",
        "        if pooling == 'avg':\n",
        "            model.add(tf.keras.layers.GlobalAveragePooling2D())\n",
        "        elif pooling == 'max':\n",
        "            model.add(tf.keras.layers.GlobalMaxPooling2D())\n",
        "\n",
        "    if weights == 'imagenet':\n",
        "        if include_top:\n",
        "            weights_path = data_utils.get_file(\n",
        "            'vgg16_weights_tf_dim_ordering_tf_kernels.h5',\n",
        "            WEIGHTS_PATH,\n",
        "            cache_subdir='models',\n",
        "            file_hash='64373286793e3c8b2b4e3219cbf3544b')\n",
        "        else:\n",
        "            weights_path = data_utils.get_file(\n",
        "                'vgg16_weights_tf_dim_ordering_tf_kernels_notop.h5',\n",
        "                WEIGHTS_PATH_NO_TOP,\n",
        "                cache_subdir='models',\n",
        "                file_hash='6d6bbae143d832006294945121d1f1fc')\n",
        "        model.load_weights(weights_path)\n",
        "    elif weights is not None:\n",
        "        model.load_weights(weights)\n",
        "\n",
        "    return model"
      ],
      "execution_count": 3,
      "outputs": []
    },
    {
      "cell_type": "code",
      "metadata": {
        "id": "uKqvz5mtc_TQ"
      },
      "source": [
        ""
      ],
      "execution_count": null,
      "outputs": []
    },
    {
      "cell_type": "code",
      "metadata": {
        "id": "NCk6cNei52ce",
        "outputId": "6671a3d9-4c54-4181-91c3-e8cd2db59e84",
        "colab": {
          "base_uri": "https://localhost:8080/",
          "height": 50
        }
      },
      "source": [
        "train_path = \"/content/drive/My Drive/Colab Notebooks/covid19_detection/train_data\"\n",
        "test_path = \"/content/drive/My Drive/Colab Notebooks/covid19_detection/test_data\"\n",
        "\n",
        "train_datagen = ImageDataGenerator(\n",
        "        rescale=1./255,\n",
        "        shear_range=0.2,\n",
        "        zoom_range=0.2,\n",
        "        validation_split=0.2)\n",
        "#validation_datagen = ImageDataGenerator(rescale=1./255)\n",
        "\n",
        "train_generator = train_datagen.flow_from_directory(\n",
        "        train_path,  \n",
        "        target_size=(224, 224),  \n",
        "        batch_size= 32,\n",
        "        class_mode='categorical', subset=\"training\")\n",
        "\n",
        "validation_generator = train_datagen.flow_from_directory(\n",
        "        train_path,\n",
        "        target_size=(224, 224),\n",
        "        batch_size=32,\n",
        "        class_mode='categorical', subset=\"validation\")\n",
        "\n",
        "\n",
        "\n",
        "\n",
        "\n"
      ],
      "execution_count": 4,
      "outputs": [
        {
          "output_type": "stream",
          "text": [
            "Found 120 images belonging to 3 classes.\n",
            "Found 30 images belonging to 3 classes.\n"
          ],
          "name": "stdout"
        }
      ]
    },
    {
      "cell_type": "code",
      "metadata": {
        "id": "8CMpQJdi52ck",
        "outputId": "33736d23-8a2e-4a54-b22f-9c923c54d00b",
        "colab": {
          "base_uri": "https://localhost:8080/",
          "height": 33
        }
      },
      "source": [
        "train_generator.class_indices"
      ],
      "execution_count": 5,
      "outputs": [
        {
          "output_type": "execute_result",
          "data": {
            "text/plain": [
              "{'covid': 0, 'healthy': 1, 'noncovid': 2}"
            ]
          },
          "metadata": {
            "tags": []
          },
          "execution_count": 5
        }
      ]
    },
    {
      "cell_type": "code",
      "metadata": {
        "id": "3WIguja452co",
        "outputId": "da83f419-bba1-44e2-933d-111845c951c0",
        "colab": {
          "base_uri": "https://localhost:8080/",
          "height": 1000
        }
      },
      "source": [
        "\n",
        "baseModel = vgg16(224, 224, 3, 3, include_top=False)\n",
        "headModel = baseModel.output\n",
        "headModel = tf.keras.layers.AveragePooling2D(pool_size=(4, 4))(headModel)\n",
        "headModel = tf.keras.layers.Flatten(name='flatten')(headModel)\n",
        "headModel = tf.keras.layers.Dense(4096, activation='relu', name='fc1')(headModel)\n",
        "headModel = tf.keras.layers.Dense(4096, activation='relu', name='fc2')(headModel)\n",
        "headModel = tf.keras.layers.Dropout(0.5)(headModel)\n",
        "headModel = tf.keras.layers.Dense(3, activation='softmax')(headModel)\n",
        "# place the head FC model on top of the base model (this will become\n",
        "# the actual model we will train)\n",
        "model = Model(inputs=baseModel.input, outputs=headModel)\n",
        "# loop over all layers in the base model and freeze them so they will\n",
        "# *not* be updated during the first training process\n",
        "for layer in baseModel.layers:\n",
        "    layer.trainable = False\n",
        "\n",
        "model.summary()\n",
        "model.compile(loss='categorical_crossentropy',\n",
        "              optimizer='adam',\n",
        "              metrics=['accuracy'])\n",
        "\n",
        "hist = model.fit_generator(\n",
        "  train_generator,\n",
        "  validation_data=validation_generator,\n",
        "  epochs=10\n",
        ")"
      ],
      "execution_count": 6,
      "outputs": [
        {
          "output_type": "stream",
          "text": [
            "Downloading data from https://storage.googleapis.com/tensorflow/keras-applications/vgg16/vgg16_weights_tf_dim_ordering_tf_kernels_notop.h5\n",
            "58892288/58889256 [==============================] - 0s 0us/step\n",
            "Model: \"functional_1\"\n",
            "_________________________________________________________________\n",
            "Layer (type)                 Output Shape              Param #   \n",
            "=================================================================\n",
            "block1_conv1_input (InputLay [(None, 224, 224, 3)]     0         \n",
            "_________________________________________________________________\n",
            "block1_conv1 (Conv2D)        (None, 224, 224, 64)      1792      \n",
            "_________________________________________________________________\n",
            "block1_conv2 (Conv2D)        (None, 224, 224, 64)      36928     \n",
            "_________________________________________________________________\n",
            "block1_pool (MaxPooling2D)   (None, 112, 112, 64)      0         \n",
            "_________________________________________________________________\n",
            "block2_conv1 (Conv2D)        (None, 112, 112, 128)     73856     \n",
            "_________________________________________________________________\n",
            "block2_conv2 (Conv2D)        (None, 112, 112, 128)     147584    \n",
            "_________________________________________________________________\n",
            "block2_pool (MaxPooling2D)   (None, 56, 56, 128)       0         \n",
            "_________________________________________________________________\n",
            "block3_conv1 (Conv2D)        (None, 56, 56, 256)       295168    \n",
            "_________________________________________________________________\n",
            "block3_conv2 (Conv2D)        (None, 56, 56, 256)       590080    \n",
            "_________________________________________________________________\n",
            "block3_conv3 (Conv2D)        (None, 56, 56, 256)       590080    \n",
            "_________________________________________________________________\n",
            "block3_pool (MaxPooling2D)   (None, 28, 28, 256)       0         \n",
            "_________________________________________________________________\n",
            "block4_conv1 (Conv2D)        (None, 28, 28, 512)       1180160   \n",
            "_________________________________________________________________\n",
            "block4_conv2 (Conv2D)        (None, 28, 28, 512)       2359808   \n",
            "_________________________________________________________________\n",
            "block4_conv3 (Conv2D)        (None, 28, 28, 512)       2359808   \n",
            "_________________________________________________________________\n",
            "block4_pool (MaxPooling2D)   (None, 14, 14, 512)       0         \n",
            "_________________________________________________________________\n",
            "block5_conv1 (Conv2D)        (None, 14, 14, 512)       2359808   \n",
            "_________________________________________________________________\n",
            "block5_conv2 (Conv2D)        (None, 14, 14, 512)       2359808   \n",
            "_________________________________________________________________\n",
            "block5_conv3 (Conv2D)        (None, 14, 14, 512)       2359808   \n",
            "_________________________________________________________________\n",
            "block5_pool (MaxPooling2D)   (None, 7, 7, 512)         0         \n",
            "_________________________________________________________________\n",
            "average_pooling2d (AveragePo (None, 1, 1, 512)         0         \n",
            "_________________________________________________________________\n",
            "flatten (Flatten)            (None, 512)               0         \n",
            "_________________________________________________________________\n",
            "fc1 (Dense)                  (None, 4096)              2101248   \n",
            "_________________________________________________________________\n",
            "fc2 (Dense)                  (None, 4096)              16781312  \n",
            "_________________________________________________________________\n",
            "dropout (Dropout)            (None, 4096)              0         \n",
            "_________________________________________________________________\n",
            "dense (Dense)                (None, 3)                 12291     \n",
            "=================================================================\n",
            "Total params: 33,609,539\n",
            "Trainable params: 18,894,851\n",
            "Non-trainable params: 14,714,688\n",
            "_________________________________________________________________\n",
            "WARNING:tensorflow:From <ipython-input-6-f1554db78f6c>:26: Model.fit_generator (from tensorflow.python.keras.engine.training) is deprecated and will be removed in a future version.\n",
            "Instructions for updating:\n",
            "Please use Model.fit, which supports generators.\n",
            "Epoch 1/10\n",
            "4/4 [==============================] - 48s 12s/step - loss: 2.8417 - accuracy: 0.3167 - val_loss: 2.2671 - val_accuracy: 0.3333\n",
            "Epoch 2/10\n",
            "4/4 [==============================] - 4s 985ms/step - loss: 1.4842 - accuracy: 0.3667 - val_loss: 1.2013 - val_accuracy: 0.3333\n",
            "Epoch 3/10\n",
            "4/4 [==============================] - 4s 914ms/step - loss: 1.0444 - accuracy: 0.4667 - val_loss: 0.9063 - val_accuracy: 0.6000\n",
            "Epoch 4/10\n",
            "4/4 [==============================] - 4s 933ms/step - loss: 0.8796 - accuracy: 0.5500 - val_loss: 0.7951 - val_accuracy: 0.6000\n",
            "Epoch 5/10\n",
            "4/4 [==============================] - 4s 929ms/step - loss: 0.7269 - accuracy: 0.7667 - val_loss: 0.6547 - val_accuracy: 0.6333\n",
            "Epoch 6/10\n",
            "4/4 [==============================] - 4s 928ms/step - loss: 0.6005 - accuracy: 0.7333 - val_loss: 0.6358 - val_accuracy: 0.6667\n",
            "Epoch 7/10\n",
            "4/4 [==============================] - 4s 944ms/step - loss: 0.5403 - accuracy: 0.7917 - val_loss: 0.4123 - val_accuracy: 0.9333\n",
            "Epoch 8/10\n",
            "4/4 [==============================] - 4s 902ms/step - loss: 0.5088 - accuracy: 0.8083 - val_loss: 0.3539 - val_accuracy: 0.8667\n",
            "Epoch 9/10\n",
            "4/4 [==============================] - 4s 943ms/step - loss: 0.4364 - accuracy: 0.8083 - val_loss: 0.4926 - val_accuracy: 0.7667\n",
            "Epoch 10/10\n",
            "4/4 [==============================] - 4s 941ms/step - loss: 0.4571 - accuracy: 0.8167 - val_loss: 0.4421 - val_accuracy: 0.8333\n"
          ],
          "name": "stdout"
        }
      ]
    },
    {
      "cell_type": "code",
      "metadata": {
        "id": "vv-ZQQSm52c0",
        "outputId": "150cd372-3c71-458c-e677-0a04815e340f",
        "colab": {
          "base_uri": "https://localhost:8080/",
          "height": 294
        }
      },
      "source": [
        "plt.plot(hist.history['loss'])\n",
        "plt.plot(hist.history['val_loss'])\n",
        "plt.title('Model loss')\n",
        "plt.ylabel('Loss')\n",
        "plt.xlabel('Epoch')\n",
        "plt.legend(['Train', 'Val'], loc='upper right')\n",
        "plt.show()"
      ],
      "execution_count": 7,
      "outputs": [
        {
          "output_type": "display_data",
          "data": {
            "image/png": "[encoded data removed]",
            "text/plain": [
              "<Figure size 432x288 with 1 Axes>"
            ]
          },
          "metadata": {
            "tags": [],
            "needs_background": "light"
          }
        }
      ]
    },
    {
      "cell_type": "code",
      "metadata": {
        "id": "qc2djVZ852c4",
        "outputId": "f7c37b0c-a241-4613-9334-9c3ad38441b6",
        "colab": {
          "base_uri": "https://localhost:8080/",
          "height": 294
        }
      },
      "source": [
        "plt.plot(hist.history['accuracy'])\n",
        "plt.plot(hist.history['val_accuracy'])\n",
        "plt.title('Model accuracy')\n",
        "plt.ylabel('Accuracy')\n",
        "plt.xlabel('Epoch')\n",
        "plt.legend(['Train', 'Val'], loc='lower right')\n",
        "plt.show()"
      ],
      "execution_count": 8,
      "outputs": [
        {
          "output_type": "display_data",
          "data": {
            "image/png": "[encoded data removed]",
            "text/plain": [
              "<Figure size 432x288 with 1 Axes>"
            ]
          },
          "metadata": {
            "tags": [],
            "needs_background": "light"
          }
        }
      ]
    },
    {
      "cell_type": "code",
      "metadata": {
        "id": "rjjHPxtdscTN",
        "outputId": "c4fb9bed-c52c-48b7-88b8-adcb2ea00381",
        "colab": {
          "base_uri": "https://localhost:8080/",
          "height": 33
        }
      },
      "source": [
        "# Confusion Matrix \n",
        "\n",
        "# Since we do not have a lot of data, we did not split into training-validation-testing.\n",
        "# Instead we split into training-validation.\n",
        "# we shall use images in validation dataset for testing. \n",
        "\n",
        "# There is one problem. Previously, we set shuffle = True in our generator.\n",
        "# This makes it difficult to obtain predictions and their corresponding ground truth labels.\n",
        "# Thus, we shall call the generator again, but this time set shuffle = False.\n",
        "train_path = \"/content/drive/My Drive/Colab Notebooks/covid19_detection/train_data\"\n",
        "test_path = \"/content/drive/My Drive/Colab Notebooks/covid19_detection/test_data\"\n",
        "\n",
        "img_height, img_width=224,224\n",
        "val_generator = train_datagen.flow_from_directory(\n",
        "    directory = train_path,\n",
        "    classes = ['covid','healthy','nocovid'],\n",
        "    target_size=(img_height, img_width),\n",
        "    seed = 42,\n",
        "    batch_size = 32, \n",
        "    shuffle = False,\n",
        "    subset = 'validation'\n",
        ")\n",
        "\n",
        "# Obtain predictions\n",
        "pred = model.predict_generator(val_generator) # Gives class probabilities\n",
        "pred = np.round(pred) # Gives one-hot encoded classes\n",
        "pred = np.argmax(pred, axis = 1) # Gives class labels\n",
        "\n",
        "# Obtain actual labels\n",
        "actual = val_generator.classes\n",
        "    \n",
        "# Now plot matrix\n",
        "cm = confusion_matrix(actual, pred, labels = [0, 1, 2])"
      ],
      "execution_count": 10,
      "outputs": [
        {
          "output_type": "stream",
          "text": [
            "Found 20 images belonging to 3 classes.\n"
          ],
          "name": "stdout"
        }
      ]
    },
    {
      "cell_type": "code",
      "metadata": {
        "id": "tWLVT-j5NPQB"
      },
      "source": [
        "def make_confusion_matrix(cf,\n",
        "                          group_names=None,\n",
        "                          categories='auto',\n",
        "                          count=True,\n",
        "                          percent=True,\n",
        "                          cbar=True,\n",
        "                          xyticks=True,\n",
        "                          xyplotlabels=True,\n",
        "                          sum_stats=True,\n",
        "                          figsize=None,\n",
        "                          cmap='Blues',\n",
        "                          title=None):\n",
        "\n",
        "\n",
        "    # CODE TO GENERATE TEXT INSIDE EACH SQUARE\n",
        "    blanks = ['' for i in range(cf.size)]\n",
        "\n",
        "    if group_names and len(group_names)==cf.size:\n",
        "        group_labels = [\"{}\\n\".format(value) for value in group_names]\n",
        "    else:\n",
        "        group_labels = blanks\n",
        "\n",
        "    if count:\n",
        "        group_counts = [\"{0:0.0f}\\n\".format(value) for value in cf.flatten()]\n",
        "    else:\n",
        "        group_counts = blanks\n",
        "\n",
        "    if percent:\n",
        "        group_percentages = [\"{0:.2%}\".format(value) for value in cf.flatten()/np.sum(cf)]\n",
        "    else:\n",
        "        group_percentages = blanks\n",
        "\n",
        "    box_labels = [f\"{v1}{v2}{v3}\".strip() for v1, v2, v3 in zip(group_labels,group_counts,group_percentages)]\n",
        "    box_labels = np.asarray(box_labels).reshape(cf.shape[0],cf.shape[1])\n",
        "\n",
        "\n",
        "    # CODE TO GENERATE SUMMARY STATISTICS & TEXT FOR SUMMARY STATS\n",
        "    if sum_stats:\n",
        "        #Accuracy is sum of diagonal divided by total observations\n",
        "        accuracy  = np.trace(cf) / float(np.sum(cf))\n",
        "\n",
        "        #if it is a binary confusion matrix, show some more stats\n",
        "        if len(cf)==2:\n",
        "            #Metrics for Binary Confusion Matrices\n",
        "            precision = cf[1,1] / sum(cf[:,1])\n",
        "            recall    = cf[1,1] / sum(cf[1,:])\n",
        "            f1_score  = 2*precision*recall / (precision + recall)\n",
        "            stats_text = \"\\n\\nAccuracy={:0.3f}\\nPrecision={:0.3f}\\nRecall={:0.3f}\\nF1 Score={:0.3f}\".format(\n",
        "                accuracy,precision,recall,f1_score)\n",
        "        else:\n",
        "            # stats_text = \"\\n\\nAccuracy={:0.3f}\".format(accuracy)\n",
        "            stats_text = \"\"\n",
        "    else:\n",
        "        stats_text = \"\"\n",
        "\n",
        "\n",
        "    # SET FIGURE PARAMETERS ACCORDING TO OTHER ARGUMENTS\n",
        "    if figsize==None:\n",
        "        #Get default figure size if not set\n",
        "        figsize = plt.rcParams.get('figure.figsize')\n",
        "\n",
        "    if xyticks==False:\n",
        "        #Do not show categories if xyticks is False\n",
        "        categories=False\n",
        "\n",
        "\n",
        "    # MAKE THE HEATMAP VISUALIZATION\n",
        "    plt.figure(figsize=figsize)\n",
        "    sns.heatmap(cf,annot=box_labels,fmt=\"\",cmap=cmap,cbar=cbar,xticklabels=categories,yticklabels=categories)\n",
        "\n",
        "    if xyplotlabels:\n",
        "        plt.ylabel('True label')\n",
        "        plt.xlabel('Predicted label' + stats_text)\n",
        "    else:\n",
        "        plt.xlabel(stats_text)\n",
        "    \n",
        "    if title:\n",
        "        plt.title(title)"
      ],
      "execution_count": 41,
      "outputs": []
    },
    {
      "cell_type": "code",
      "metadata": {
        "id": "tdT91McOzpR-",
        "outputId": "e3fd4b3c-7fac-43e0-db5d-ba45f9b41460",
        "colab": {
          "base_uri": "https://localhost:8080/",
          "height": 628
        }
      },
      "source": [
        "make_confusion_matrix(cm, figsize=(12,10), cbar=False)"
      ],
      "execution_count": 13,
      "outputs": [
        {
          "output_type": "display_data",
          "data": {
            "image/png": "[encoded data removed]",
            "text/plain": [
              "<Figure size 864x720 with 1 Axes>"
            ]
          },
          "metadata": {
            "tags": [],
            "needs_background": "light"
          }
        }
      ]
    },
    {
      "cell_type": "code",
      "metadata": {
        "id": "wTjaqncRshCh",
        "outputId": "fbaddde8-fa15-4e1f-d389-89272d636c9d",
        "colab": {
          "base_uri": "https://localhost:8080/",
          "height": 236
        }
      },
      "source": [
        "# Classification Report\n",
        "print(classification_report(actual, pred))"
      ],
      "execution_count": 14,
      "outputs": [
        {
          "output_type": "stream",
          "text": [
            "              precision    recall  f1-score   support\n",
            "\n",
            "           0       1.00      0.70      0.82        10\n",
            "           1       1.00      1.00      1.00        10\n",
            "           2       0.00      0.00      0.00         0\n",
            "\n",
            "    accuracy                           0.85        20\n",
            "   macro avg       0.67      0.57      0.61        20\n",
            "weighted avg       1.00      0.85      0.91        20\n",
            "\n"
          ],
          "name": "stdout"
        },
        {
          "output_type": "stream",
          "text": [
            "/usr/local/lib/python3.6/dist-packages/sklearn/metrics/_classification.py:1272: UndefinedMetricWarning: Recall and F-score are ill-defined and being set to 0.0 in labels with no true samples. Use `zero_division` parameter to control this behavior.\n",
            "  _warn_prf(average, modifier, msg_start, len(result))\n"
          ],
          "name": "stderr"
        }
      ]
    },
    {
      "cell_type": "code",
      "metadata": {
        "id": "-KssBMALzud6"
      },
      "source": [
        "def train_model(batch_size = 32, LR = 0.0001, epochs = 5, opt = 'adam', verbose=0):\n",
        "\n",
        "  WEIGHTS_PATH = ('https://storage.googleapis.com/tensorflow/keras-applications/'\n",
        "                'vgg16/vgg16_weights_tf_dim_ordering_tf_kernels.h5')\n",
        "  WEIGHTS_PATH_NO_TOP = ('https://storage.googleapis.com/tensorflow/'\n",
        "                        'keras-applications/vgg16/'\n",
        "                        'vgg16_weights_tf_dim_ordering_tf_kernels_notop.h5')\n",
        "  \n",
        "  train_path = \"/content/drive/My Drive/Colab Notebooks/covid19_detection/train_data\"\n",
        "\n",
        "  img_height, img_width=224,224\n",
        "\n",
        "  train_datagen = ImageDataGenerator(\n",
        "        rescale=1./255,\n",
        "        shear_range=0.2,\n",
        "        zoom_range=0.2,\n",
        "        validation_split=0.2)\n",
        "  #validation_datagen = ImageDataGenerator(rescale=1./255)\n",
        "\n",
        "  train_generator = train_datagen.flow_from_directory(\n",
        "          train_path,  \n",
        "          target_size=(224, 224),  \n",
        "          batch_size= 32,\n",
        "          class_mode='categorical', subset=\"training\")\n",
        "\n",
        "  validation_generator = train_datagen.flow_from_directory(\n",
        "          train_path,\n",
        "          target_size=(224, 224),\n",
        "          batch_size=32,\n",
        "          class_mode='categorical', subset=\"validation\")\n",
        "\n",
        "\n",
        "  baseModel = vgg16(224, 224, 3, 3, include_top=False)\n",
        "  headModel = baseModel.output\n",
        "  headModel = tf.keras.layers.AveragePooling2D(pool_size=(4, 4))(headModel)\n",
        "  headModel = tf.keras.layers.Flatten(name='flatten')(headModel)\n",
        "  headModel = tf.keras.layers.Dense(4096, activation='relu', name='fc1')(headModel)\n",
        "  headModel = tf.keras.layers.Dense(4096, activation='relu', name='fc2')(headModel)\n",
        "  headModel = tf.keras.layers.Dropout(0.5)(headModel)\n",
        "  headModel = tf.keras.layers.Dense(3, activation='softmax')(headModel)\n",
        "  # place the head FC model on top of the base model (this will become\n",
        "  # the actual model we will train)\n",
        "  model = Model(inputs=baseModel.input, outputs=headModel)\n",
        "  # loop over all layers in the base model and freeze them so they will\n",
        "  # *not* be updated during the first training process\n",
        "  for layer in baseModel.layers:\n",
        "      layer.trainable = False\n",
        "\n",
        "  if opt == 'adam':\n",
        "    optimizer = Adam(LR)\n",
        "  elif opt == 'sgd':\n",
        "    optimizer = SGD(LR)\n",
        "  elif opt == 'rmsprop':\n",
        "    optimizer = RMSprop(LR)\n",
        "\n",
        "  model.compile(loss = keras.losses.categorical_crossentropy, optimizer = optimizer, metrics = [\"accuracy\"])\n",
        "  \n",
        "  history = model.fit_generator(train_generator, validation_data = train_generator, epochs = epochs ,verbose = verbose)\n",
        "\n",
        "  print('hyperparameters: batch_size : {}, Learning Rate : {}, Epochs : {}, Optimizer : {}'.format(batch_size, LR, epochs, opt))\n",
        "  print('validation accuracy: ',history.history['val_accuracy'][-1])\n",
        "\n",
        "  return history, model"
      ],
      "execution_count": 18,
      "outputs": []
    },
    {
      "cell_type": "code",
      "metadata": {
        "id": "cOk-_kkP2BVi",
        "outputId": "bff3771f-2195-41aa-9dec-d5920ffb7338",
        "colab": {
          "base_uri": "https://localhost:8080/",
          "height": 1000
        }
      },
      "source": [
        "batch_list = [32]\n",
        "epoch_list = [3, 10, 15]\n",
        "learning_rate_list = [0.001, 0.0001]\n",
        "opt_list = ['adam', 'sgd']\n",
        "\n",
        "for batch_size in batch_list:\n",
        "  for epochs in epoch_list:\n",
        "    for LR in learning_rate_list:\n",
        "      for opt in opt_list:\n",
        "        print('-----'*20)\n",
        "        train_model(batch_size = batch_size, LR = LR, epochs = epochs, opt = opt)"
      ],
      "execution_count": null,
      "outputs": [
        {
          "output_type": "stream",
          "text": [
            "----------------------------------------------------------------------------------------------------\n",
            "Found 120 images belonging to 3 classes.\n",
            "Found 30 images belonging to 3 classes.\n",
            "hyperparameters: batch_size : 32, Learning Rate : 0.001, Epochs : 3, Optimizer : adam\n",
            "validation accuracy:  0.6666666865348816\n",
            "----------------------------------------------------------------------------------------------------\n",
            "Found 120 images belonging to 3 classes.\n",
            "Found 30 images belonging to 3 classes.\n",
            "hyperparameters: batch_size : 32, Learning Rate : 0.001, Epochs : 3, Optimizer : sgd\n",
            "validation accuracy:  0.36666667461395264\n",
            "----------------------------------------------------------------------------------------------------\n",
            "Found 120 images belonging to 3 classes.\n",
            "Found 30 images belonging to 3 classes.\n",
            "hyperparameters: batch_size : 32, Learning Rate : 0.0001, Epochs : 3, Optimizer : adam\n",
            "validation accuracy:  0.6166666746139526\n",
            "----------------------------------------------------------------------------------------------------\n",
            "Found 120 images belonging to 3 classes.\n",
            "Found 30 images belonging to 3 classes.\n",
            "hyperparameters: batch_size : 32, Learning Rate : 0.0001, Epochs : 3, Optimizer : sgd\n",
            "validation accuracy:  0.3083333373069763\n",
            "----------------------------------------------------------------------------------------------------\n",
            "Found 120 images belonging to 3 classes.\n",
            "Found 30 images belonging to 3 classes.\n",
            "hyperparameters: batch_size : 32, Learning Rate : 0.001, Epochs : 10, Optimizer : adam\n",
            "validation accuracy:  0.8583333492279053\n",
            "----------------------------------------------------------------------------------------------------\n",
            "Found 120 images belonging to 3 classes.\n",
            "Found 30 images belonging to 3 classes.\n",
            "hyperparameters: batch_size : 32, Learning Rate : 0.001, Epochs : 10, Optimizer : sgd\n",
            "validation accuracy:  0.7250000238418579\n",
            "----------------------------------------------------------------------------------------------------\n",
            "Found 120 images belonging to 3 classes.\n",
            "Found 30 images belonging to 3 classes.\n",
            "hyperparameters: batch_size : 32, Learning Rate : 0.0001, Epochs : 10, Optimizer : adam\n",
            "validation accuracy:  0.8333333134651184\n",
            "----------------------------------------------------------------------------------------------------\n",
            "Found 120 images belonging to 3 classes.\n",
            "Found 30 images belonging to 3 classes.\n",
            "hyperparameters: batch_size : 32, Learning Rate : 0.0001, Epochs : 10, Optimizer : sgd\n",
            "validation accuracy:  0.3083333373069763\n",
            "----------------------------------------------------------------------------------------------------\n",
            "Found 120 images belonging to 3 classes.\n",
            "Found 30 images belonging to 3 classes.\n",
            "hyperparameters: batch_size : 32, Learning Rate : 0.001, Epochs : 15, Optimizer : adam\n",
            "validation accuracy:  0.9166666865348816\n",
            "----------------------------------------------------------------------------------------------------\n",
            "Found 120 images belonging to 3 classes.\n",
            "Found 30 images belonging to 3 classes.\n",
            "hyperparameters: batch_size : 32, Learning Rate : 0.001, Epochs : 15, Optimizer : sgd\n",
            "validation accuracy:  0.7166666388511658\n",
            "----------------------------------------------------------------------------------------------------\n",
            "Found 120 images belonging to 3 classes.\n",
            "Found 30 images belonging to 3 classes.\n",
            "hyperparameters: batch_size : 32, Learning Rate : 0.0001, Epochs : 15, Optimizer : adam\n",
            "validation accuracy:  0.8916666507720947\n",
            "----------------------------------------------------------------------------------------------------\n",
            "Found 120 images belonging to 3 classes.\n",
            "Found 30 images belonging to 3 classes.\n",
            "hyperparameters: batch_size : 32, Learning Rate : 0.0001, Epochs : 15, Optimizer : sgd\n",
            "validation accuracy:  0.3333333432674408\n"
          ],
          "name": "stdout"
        }
      ]
    },
    {
      "cell_type": "code",
      "metadata": {
        "id": "-itoLunm2Lw5"
      },
      "source": [
        "# we can see that SGD optimizer does not work well for almost all hyper parameters and seems very sensitive to the learning rate\n",
        "# ADAM optimizer gives better accuracy than the SGD optimizer in all cases\n",
        "# ADAM optimizer performs the best for hyperparameters: batch_size : 32, Learning Rate : 0.001, Epochs : 15, Optimizer : adam\n",
        "# giving us a validation accuracy of approximately 92 percent \n",
        "# when the number of epochs increases from 10 to 15 then ADAM optimizer tends to perform better with smaller learning rate\n",
        "# Adam optimizer is very not very sensitive to learning rate as the accuracy changes only few percent when learning rate is changed\n",
        "# the best hyperparamaters from the about tuning are\n",
        "# hyperparameters: batch_size : 32, Learning Rate : 0.001, Epochs : 15, Optimizer : adam"
      ],
      "execution_count": null,
      "outputs": []
    },
    {
      "cell_type": "code",
      "metadata": {
        "id": "bx7MGxgfcfgu"
      },
      "source": [
        "# best model"
      ],
      "execution_count": null,
      "outputs": []
    },
    {
      "cell_type": "code",
      "metadata": {
        "id": "QOnzEkERYGhj",
        "outputId": "993b150a-a7e4-4496-8bed-8339008ab321",
        "colab": {
          "base_uri": "https://localhost:8080/",
          "height": 583
        }
      },
      "source": [
        "history, model = train_model(batch_size=32, LR=0.001, epochs=15, opt='adam', verbose=1)"
      ],
      "execution_count": 19,
      "outputs": [
        {
          "output_type": "stream",
          "text": [
            "Found 120 images belonging to 3 classes.\n",
            "Found 30 images belonging to 3 classes.\n",
            "Epoch 1/15\n",
            "4/4 [==============================] - 8s 2s/step - loss: 2.8672 - accuracy: 0.3583 - val_loss: 2.0385 - val_accuracy: 0.3333\n",
            "Epoch 2/15\n",
            "4/4 [==============================] - 7s 2s/step - loss: 1.4210 - accuracy: 0.3417 - val_loss: 1.0950 - val_accuracy: 0.6167\n",
            "Epoch 3/15\n",
            "4/4 [==============================] - 7s 2s/step - loss: 1.0098 - accuracy: 0.6000 - val_loss: 0.8730 - val_accuracy: 0.6500\n",
            "Epoch 4/15\n",
            "4/4 [==============================] - 7s 2s/step - loss: 0.8512 - accuracy: 0.6750 - val_loss: 0.7663 - val_accuracy: 0.7083\n",
            "Epoch 5/15\n",
            "4/4 [==============================] - 7s 2s/step - loss: 0.7609 - accuracy: 0.7000 - val_loss: 0.6176 - val_accuracy: 0.7750\n",
            "Epoch 6/15\n",
            "4/4 [==============================] - 7s 2s/step - loss: 0.6555 - accuracy: 0.6917 - val_loss: 0.5278 - val_accuracy: 0.8167\n",
            "Epoch 7/15\n",
            "4/4 [==============================] - 7s 2s/step - loss: 0.5405 - accuracy: 0.7917 - val_loss: 0.4952 - val_accuracy: 0.7833\n",
            "Epoch 8/15\n",
            "4/4 [==============================] - 7s 2s/step - loss: 0.5081 - accuracy: 0.7500 - val_loss: 0.3951 - val_accuracy: 0.8500\n",
            "Epoch 9/15\n",
            "4/4 [==============================] - 7s 2s/step - loss: 0.4752 - accuracy: 0.7583 - val_loss: 0.3572 - val_accuracy: 0.8833\n",
            "Epoch 10/15\n",
            "4/4 [==============================] - 7s 2s/step - loss: 0.3849 - accuracy: 0.8333 - val_loss: 0.3657 - val_accuracy: 0.8333\n",
            "Epoch 11/15\n",
            "4/4 [==============================] - 7s 2s/step - loss: 0.3700 - accuracy: 0.8500 - val_loss: 0.3406 - val_accuracy: 0.8667\n",
            "Epoch 12/15\n",
            "4/4 [==============================] - 7s 2s/step - loss: 0.3239 - accuracy: 0.8583 - val_loss: 0.2529 - val_accuracy: 0.9167\n",
            "Epoch 13/15\n",
            "4/4 [==============================] - 7s 2s/step - loss: 0.2761 - accuracy: 0.9000 - val_loss: 0.2613 - val_accuracy: 0.9000\n",
            "Epoch 14/15\n",
            "4/4 [==============================] - 7s 2s/step - loss: 0.2756 - accuracy: 0.8583 - val_loss: 0.2582 - val_accuracy: 0.8750\n",
            "Epoch 15/15\n",
            "4/4 [==============================] - 7s 2s/step - loss: 0.2139 - accuracy: 0.9167 - val_loss: 0.2367 - val_accuracy: 0.8833\n",
            "hyperparameters: batch_size : 32, Learning Rate : 0.001, Epochs : 15, Optimizer : adam\n",
            "validation accuracy:  0.8833333253860474\n"
          ],
          "name": "stdout"
        }
      ]
    },
    {
      "cell_type": "code",
      "metadata": {
        "id": "iwCZ7QVoZHTM",
        "outputId": "6f90357f-d09a-4043-cdab-cb999fc9bf16",
        "colab": {
          "base_uri": "https://localhost:8080/",
          "height": 294
        }
      },
      "source": [
        "plt.plot(history.history['loss'])\n",
        "plt.plot(history.history['val_loss'])\n",
        "plt.title('Model loss')\n",
        "plt.ylabel('Loss')\n",
        "plt.xlabel('Epoch')\n",
        "plt.legend(['Train', 'Val'], loc='upper right')\n",
        "plt.show()"
      ],
      "execution_count": 20,
      "outputs": [
        {
          "output_type": "display_data",
          "data": {
            "image/png": "[encoded data removed]",
            "text/plain": [
              "<Figure size 432x288 with 1 Axes>"
            ]
          },
          "metadata": {
            "tags": [],
            "needs_background": "light"
          }
        }
      ]
    },
    {
      "cell_type": "code",
      "metadata": {
        "id": "EAhkBzflZHTT",
        "outputId": "30d25d01-d92b-4b2f-838a-4f15a314444d",
        "colab": {
          "base_uri": "https://localhost:8080/",
          "height": 294
        }
      },
      "source": [
        "plt.plot(history.history['accuracy'])\n",
        "plt.plot(history.history['val_accuracy'])\n",
        "plt.title('Model accuracy')\n",
        "plt.ylabel('Accuracy')\n",
        "plt.xlabel('Epoch')\n",
        "plt.legend(['Train', 'Val'], loc='lower right')\n",
        "plt.show()"
      ],
      "execution_count": 21,
      "outputs": [
        {
          "output_type": "display_data",
          "data": {
            "image/png": "[encoded data removed]",
            "text/plain": [
              "<Figure size 432x288 with 1 Axes>"
            ]
          },
          "metadata": {
            "tags": [],
            "needs_background": "light"
          }
        }
      ]
    },
    {
      "cell_type": "code",
      "metadata": {
        "id": "bEJXsUNJZHTX",
        "outputId": "eb011db9-8889-4b95-dfca-1d70c7999eae",
        "colab": {
          "base_uri": "https://localhost:8080/",
          "height": 33
        }
      },
      "source": [
        "# Confusion Matrix \n",
        "\n",
        "# Since we do not have a lot of data, we did not split into training-validation-testing.\n",
        "# Instead we split into training-validation.\n",
        "# we shall use images in validation dataset for testing. \n",
        "\n",
        "# There is one problem. Previously, we set shuffle = True in our generator.\n",
        "# This makes it difficult to obtain predictions and their corresponding ground truth labels.\n",
        "# Thus, we shall call the generator again, but this time set shuffle = False.\n",
        "train_path = \"/content/drive/My Drive/Colab Notebooks/covid19_detection/train_data\"\n",
        "test_path = \"/content/drive/My Drive/Colab Notebooks/covid19_detection/test_data\"\n",
        "\n",
        "img_height, img_width=224,224\n",
        "val_generator = train_datagen.flow_from_directory(\n",
        "    directory = train_path,\n",
        "    classes = ['covid','healthy','nocovid'],\n",
        "    target_size=(img_height, img_width),\n",
        "    seed = 42,\n",
        "    batch_size = 32, \n",
        "    shuffle = False,\n",
        "    subset = 'validation'\n",
        ")\n",
        "\n",
        "# Obtain predictions\n",
        "pred = model.predict_generator(val_generator) # Gives class probabilities\n",
        "pred = np.round(pred) # Gives one-hot encoded classes\n",
        "pred = np.argmax(pred, axis = 1) # Gives class labels\n",
        "\n",
        "# Obtain actual labels\n",
        "actual = val_generator.classes\n",
        "    \n",
        "# Now plot matrix\n",
        "cm = confusion_matrix(actual, pred, labels = [0, 1, 2])"
      ],
      "execution_count": 56,
      "outputs": [
        {
          "output_type": "stream",
          "text": [
            "Found 20 images belonging to 3 classes.\n"
          ],
          "name": "stdout"
        }
      ]
    },
    {
      "cell_type": "code",
      "metadata": {
        "id": "o2yXXqzqZHTb",
        "outputId": "dc1abe01-afcc-4de8-f8b9-189327216b1a",
        "colab": {
          "base_uri": "https://localhost:8080/",
          "height": 605
        }
      },
      "source": [
        "make_confusion_matrix(cm, figsize=(12,10), cbar=False)"
      ],
      "execution_count": 57,
      "outputs": [
        {
          "output_type": "display_data",
          "data": {
            "image/png": "[encoded data removed]",
            "text/plain": [
              "<Figure size 864x720 with 1 Axes>"
            ]
          },
          "metadata": {
            "tags": [],
            "needs_background": "light"
          }
        }
      ]
    },
    {
      "cell_type": "code",
      "metadata": {
        "id": "y8bd-_NGZHTe",
        "outputId": "b46f4aa9-c3bb-45ee-8ead-fccb4078e871",
        "colab": {
          "base_uri": "https://localhost:8080/",
          "height": 236
        }
      },
      "source": [
        "# Classification Report\n",
        "print(classification_report(actual, pred))"
      ],
      "execution_count": 58,
      "outputs": [
        {
          "output_type": "stream",
          "text": [
            "              precision    recall  f1-score   support\n",
            "\n",
            "           0       1.00      0.70      0.82        10\n",
            "           1       1.00      0.90      0.95        10\n",
            "           2       0.00      0.00      0.00         0\n",
            "\n",
            "    accuracy                           0.80        20\n",
            "   macro avg       0.67      0.53      0.59        20\n",
            "weighted avg       1.00      0.80      0.89        20\n",
            "\n"
          ],
          "name": "stdout"
        },
        {
          "output_type": "stream",
          "text": [
            "/usr/local/lib/python3.6/dist-packages/sklearn/metrics/_classification.py:1272: UndefinedMetricWarning: Recall and F-score are ill-defined and being set to 0.0 in labels with no true samples. Use `zero_division` parameter to control this behavior.\n",
            "  _warn_prf(average, modifier, msg_start, len(result))\n"
          ],
          "name": "stderr"
        }
      ]
    },
    {
      "cell_type": "code",
      "metadata": {
        "id": "-JsjDv40aZ0w"
      },
      "source": [
        "from keras.models import load_model\n",
        "model.save('/content/drive/My Drive/Colab Notebooks/covid19_detection/train_data/vgg16modeltrained.h5')  # creates a HDF5 file 'vgg16modeltrained.h5'\n",
        "# del model  # deletes the existing model\n",
        "\n",
        "model = load_model('/content/drive/My Drive/Colab Notebooks/covid19_detection/train_data/vgg16modeltrained.h5')"
      ],
      "execution_count": 54,
      "outputs": []
    },
    {
      "cell_type": "code",
      "metadata": {
        "id": "SaL-GhpFdIa_",
        "outputId": "db9ea952-14cb-42dd-f3f5-f6bbc0a6461f",
        "colab": {
          "base_uri": "https://localhost:8080/",
          "height": 983
        }
      },
      "source": [
        "model.summary()"
      ],
      "execution_count": 55,
      "outputs": [
        {
          "output_type": "stream",
          "text": [
            "Model: \"functional_5\"\n",
            "_________________________________________________________________\n",
            "Layer (type)                 Output Shape              Param #   \n",
            "=================================================================\n",
            "block1_conv1_input (InputLay [(None, 224, 224, 3)]     0         \n",
            "_________________________________________________________________\n",
            "block1_conv1 (Conv2D)        (None, 224, 224, 64)      1792      \n",
            "_________________________________________________________________\n",
            "block1_conv2 (Conv2D)        (None, 224, 224, 64)      36928     \n",
            "_________________________________________________________________\n",
            "block1_pool (MaxPooling2D)   (None, 112, 112, 64)      0         \n",
            "_________________________________________________________________\n",
            "block2_conv1 (Conv2D)        (None, 112, 112, 128)     73856     \n",
            "_________________________________________________________________\n",
            "block2_conv2 (Conv2D)        (None, 112, 112, 128)     147584    \n",
            "_________________________________________________________________\n",
            "block2_pool (MaxPooling2D)   (None, 56, 56, 128)       0         \n",
            "_________________________________________________________________\n",
            "block3_conv1 (Conv2D)        (None, 56, 56, 256)       295168    \n",
            "_________________________________________________________________\n",
            "block3_conv2 (Conv2D)        (None, 56, 56, 256)       590080    \n",
            "_________________________________________________________________\n",
            "block3_conv3 (Conv2D)        (None, 56, 56, 256)       590080    \n",
            "_________________________________________________________________\n",
            "block3_pool (MaxPooling2D)   (None, 28, 28, 256)       0         \n",
            "_________________________________________________________________\n",
            "block4_conv1 (Conv2D)        (None, 28, 28, 512)       1180160   \n",
            "_________________________________________________________________\n",
            "block4_conv2 (Conv2D)        (None, 28, 28, 512)       2359808   \n",
            "_________________________________________________________________\n",
            "block4_conv3 (Conv2D)        (None, 28, 28, 512)       2359808   \n",
            "_________________________________________________________________\n",
            "block4_pool (MaxPooling2D)   (None, 14, 14, 512)       0         \n",
            "_________________________________________________________________\n",
            "block5_conv1 (Conv2D)        (None, 14, 14, 512)       2359808   \n",
            "_________________________________________________________________\n",
            "block5_conv2 (Conv2D)        (None, 14, 14, 512)       2359808   \n",
            "_________________________________________________________________\n",
            "block5_conv3 (Conv2D)        (None, 14, 14, 512)       2359808   \n",
            "_________________________________________________________________\n",
            "block5_pool (MaxPooling2D)   (None, 7, 7, 512)         0         \n",
            "_________________________________________________________________\n",
            "average_pooling2d_2 (Average (None, 1, 1, 512)         0         \n",
            "_________________________________________________________________\n",
            "flatten (Flatten)            (None, 512)               0         \n",
            "_________________________________________________________________\n",
            "fc1 (Dense)                  (None, 4096)              2101248   \n",
            "_________________________________________________________________\n",
            "fc2 (Dense)                  (None, 4096)              16781312  \n",
            "_________________________________________________________________\n",
            "dropout_2 (Dropout)          (None, 4096)              0         \n",
            "_________________________________________________________________\n",
            "dense_2 (Dense)              (None, 3)                 12291     \n",
            "=================================================================\n",
            "Total params: 33,609,539\n",
            "Trainable params: 18,894,851\n",
            "Non-trainable params: 14,714,688\n",
            "_________________________________________________________________\n"
          ],
          "name": "stdout"
        }
      ]
    },
    {
      "cell_type": "code",
      "metadata": {
        "id": "ku4OlhGUdU_H"
      },
      "source": [
        ""
      ],
      "execution_count": null,
      "outputs": []
    }
  ]
}